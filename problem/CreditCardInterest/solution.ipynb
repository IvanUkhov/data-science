{
 "cells": [
  {
   "cell_type": "code",
   "execution_count": null,
   "metadata": {},
   "outputs": [],
   "source": [
    "import matplotlib.pyplot as pp\n",
    "import tensorflow as tf\n",
    "import tensorflow_probability as tp"
   ]
  },
  {
   "cell_type": "code",
   "execution_count": null,
   "metadata": {},
   "outputs": [],
   "source": [
    "%config InlineBackend.figure_format = 'svg'"
   ]
  },
  {
   "cell_type": "code",
   "execution_count": null,
   "metadata": {},
   "outputs": [],
   "source": [
    "pp.style.use('ggplot')"
   ]
  },
  {
   "cell_type": "code",
   "execution_count": null,
   "metadata": {},
   "outputs": [],
   "source": [
    "meets_per_year = 8.0\n",
    "possible_increases = tf.range(start=0.0, limit=meets_per_year + 1)\n",
    "possible_interest_rates = 2 + 10 + 0.25 * possible_increases\n",
    "raise_probabilities = tf.constant([0.6, 0.7, 0.8, 0.9]) "
   ]
  },
  {
   "cell_type": "code",
   "execution_count": null,
   "metadata": {},
   "outputs": [],
   "source": [
    "raise_probabilities = raise_probabilities[..., tf.newaxis]\n",
    "interest_rate_distribution = tp.distributions.Binomial(\n",
    "    total_count=meets_per_year,\n",
    "    probs=raise_probabilities,\n",
    ")\n",
    "interest_rate_probabilities = interest_rate_distribution.prob(possible_increases)"
   ]
  },
  {
   "cell_type": "code",
   "execution_count": null,
   "metadata": {},
   "outputs": [],
   "source": [
    "session = tf.Session()\n",
    "[\n",
    "    possible_interest_rates_,\n",
    "    interest_rate_probabilities_,\n",
    "    raise_probabilities_,\n",
    "] = session.run([\n",
    "    possible_interest_rates,\n",
    "    interest_rate_probabilities,\n",
    "    raise_probabilities,\n",
    "])"
   ]
  },
  {
   "cell_type": "code",
   "execution_count": null,
   "metadata": {},
   "outputs": [],
   "source": [
    "pp.figure(figsize=(10, 5))\n",
    "for i in range(interest_rate_probabilities_.shape[0]):\n",
    "    pp.plot(possible_interest_rates_, interest_rate_probabilities_[i, :])"
   ]
  }
 ],
 "metadata": {
  "kernelspec": {
   "display_name": "Python 3",
   "language": "python",
   "name": "python3"
  }
 },
 "nbformat": 4,
 "nbformat_minor": 2
}
