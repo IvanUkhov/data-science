{
 "cells": [
  {
   "cell_type": "markdown",
   "metadata": {},
   "source": [
    "## References\n",
    "\n",
    "* [Adult Data Set](https://archive.ics.uci.edu/ml/datasets/Adult) (UCI)\n",
    "* [Intro to Feature Engineering with TensorFlow](https://www.youtube.com/watch?v=d12ra3b_M-0) (Josh Gordon, YouTube)"
   ]
  },
  {
   "cell_type": "code",
   "execution_count": null,
   "metadata": {},
   "outputs": [],
   "source": [
    "import os\n",
    "import sys\n",
    "\n",
    "sys.path.append(os.path.join('facets/facets_overview/python'))\n",
    "\n",
    "import base64\n",
    "\n",
    "from IPython.core.display import display, HTML\n",
    "from common import load_dataset\n",
    "from generic_feature_statistics_generator import GenericFeatureStatisticsGenerator"
   ]
  },
  {
   "cell_type": "code",
   "execution_count": null,
   "metadata": {},
   "outputs": [],
   "source": [
    "def display_preamble():\n",
    "    template = \"\"\"\n",
    "    <style>.container { width:100% !important; }</style>\n",
    "    <link rel='import' href='/nbextensions/facets-dist/facets-jupyter.html'>\n",
    "    \"\"\"\n",
    "    display(HTML(template))\n",
    "\n",
    "display_preamble()"
   ]
  },
  {
   "cell_type": "code",
   "execution_count": null,
   "metadata": {},
   "outputs": [],
   "source": [
    "%%javascript\n",
    "IPython.OutputArea.prototype._should_scroll = function(lines) { return false; }"
   ]
  },
  {
   "cell_type": "code",
   "execution_count": null,
   "metadata": {},
   "outputs": [],
   "source": [
    "data = load_dataset('data/minor.csv')"
   ]
  },
  {
   "cell_type": "code",
   "execution_count": null,
   "metadata": {},
   "outputs": [],
   "source": [
    "def display_overview(data, name=None, height=1000):\n",
    "    generator = GenericFeatureStatisticsGenerator()\n",
    "    data = generator.ProtoFromDataFrames([{'name': name, 'table': data}])\n",
    "    data = base64.b64encode(data.SerializeToString()).decode('utf-8')\n",
    "    template = \"\"\"\n",
    "    <facets-overview id='overview' height='{height}'></facets-overview>\n",
    "    <script>\n",
    "    document.querySelector('#overview').protoInput = '{data}';\n",
    "    </script>\"\"\"\n",
    "    display(HTML(template.format(data=data, height=height)))\n",
    "\n",
    "display_overview(data)"
   ]
  },
  {
   "cell_type": "code",
   "execution_count": null,
   "metadata": {
    "scrolled": false
   },
   "outputs": [],
   "source": [
    "def display_dive(data, name=None, height=1000):\n",
    "    data = data.to_json(orient='records')\n",
    "    template = \"\"\"\n",
    "    <facets-dive id='dive' height='600'></facets-dive>\n",
    "    <script>\n",
    "    var data = {data};\n",
    "    document.querySelector('#dive').data = data;\n",
    "    </script>\n",
    "    \"\"\"\n",
    "    display(HTML(template.format(data=data)))\n",
    "\n",
    "display_dive(data)"
   ]
  },
  {
   "cell_type": "code",
   "execution_count": null,
   "metadata": {},
   "outputs": [],
   "source": []
  }
 ],
 "metadata": {
  "kernelspec": {
   "display_name": "Python 3",
   "language": "python",
   "name": "python3"
  },
  "language_info": {
   "codemirror_mode": {
    "name": "ipython",
    "version": 3
   },
   "file_extension": ".py",
   "mimetype": "text/x-python",
   "name": "python",
   "nbconvert_exporter": "python",
   "pygments_lexer": "ipython3",
   "version": "3.5.2"
  }
 },
 "nbformat": 4,
 "nbformat_minor": 2
}
