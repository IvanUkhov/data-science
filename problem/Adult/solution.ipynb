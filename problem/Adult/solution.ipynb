{
 "cells": [
  {
   "cell_type": "markdown",
   "metadata": {},
   "source": [
    "## References\n",
    "\n",
    "* [Adult Data Set](https://archive.ics.uci.edu/ml/datasets/Adult) (UCI)\n",
    "* [Intro to Feature Engineering with TensorFlow](https://www.youtube.com/watch?v=d12ra3b_M-0) (Josh Gordon, YouTube)"
   ]
  },
  {
   "cell_type": "code",
   "execution_count": 1,
   "metadata": {},
   "outputs": [],
   "source": [
    "import matplotlib.pyplot as pp\n",
    "import numpy as np\n",
    "import pandas as pd\n",
    "import tensorflow as tf\n",
    "\n",
    "from common import feature_variants, load_dataset\n",
    "\n",
    "np.random.seed(0)\n",
    "tf.set_random_seed(0)\n",
    "%matplotlib inline"
   ]
  },
  {
   "cell_type": "code",
   "execution_count": 2,
   "metadata": {},
   "outputs": [
    {
     "name": "stdout",
     "output_type": "stream",
     "text": [
      "<class 'pandas.core.frame.DataFrame'>\n",
      "RangeIndex: 32561 entries, 0 to 32560\n",
      "Data columns (total 15 columns):\n",
      "Age                    32561 non-null int64\n",
      "WorkClass              30725 non-null object\n",
      "FinalSamplingWeight    32561 non-null int64\n",
      "Education              32561 non-null object\n",
      "EducationNumber        32561 non-null int64\n",
      "MaritalStatus          32561 non-null object\n",
      "Occupation             30718 non-null object\n",
      "Relationship           32561 non-null object\n",
      "Race                   32561 non-null object\n",
      "Sex                    32561 non-null object\n",
      "CapitalGain            32561 non-null int64\n",
      "CapitalLoss            32561 non-null int64\n",
      "HoursPerWeek           32561 non-null int64\n",
      "NativeCountry          31978 non-null object\n",
      "Income                 32561 non-null object\n",
      "dtypes: int64(6), object(9)\n",
      "memory usage: 3.7+ MB\n"
     ]
    }
   ],
   "source": [
    "data_train = load_dataset('data/major.csv')\n",
    "data_test = load_dataset('data/minor.csv', skiprows=1)\n",
    "\n",
    "data_train.info()"
   ]
  },
  {
   "cell_type": "code",
   "execution_count": 3,
   "metadata": {},
   "outputs": [
    {
     "name": "stdout",
     "output_type": "stream",
     "text": [
      "<class 'pandas.core.frame.DataFrame'>\n",
      "RangeIndex: 30162 entries, 0 to 30161\n",
      "Data columns (total 15 columns):\n",
      "Age                    30162 non-null int64\n",
      "WorkClass              30162 non-null object\n",
      "FinalSamplingWeight    30162 non-null int64\n",
      "Education              30162 non-null object\n",
      "EducationNumber        30162 non-null int64\n",
      "MaritalStatus          30162 non-null object\n",
      "Occupation             30162 non-null object\n",
      "Relationship           30162 non-null object\n",
      "Race                   30162 non-null object\n",
      "Sex                    30162 non-null object\n",
      "CapitalGain            30162 non-null int64\n",
      "CapitalLoss            30162 non-null int64\n",
      "HoursPerWeek           30162 non-null int64\n",
      "NativeCountry          30162 non-null object\n",
      "Income                 30162 non-null object\n",
      "dtypes: int64(6), object(9)\n",
      "memory usage: 3.5+ MB\n"
     ]
    },
    {
     "data": {
      "text/html": [
       "<div>\n",
       "<style scoped>\n",
       "    .dataframe tbody tr th:only-of-type {\n",
       "        vertical-align: middle;\n",
       "    }\n",
       "\n",
       "    .dataframe tbody tr th {\n",
       "        vertical-align: top;\n",
       "    }\n",
       "\n",
       "    .dataframe thead th {\n",
       "        text-align: right;\n",
       "    }\n",
       "</style>\n",
       "<table border=\"1\" class=\"dataframe\">\n",
       "  <thead>\n",
       "    <tr style=\"text-align: right;\">\n",
       "      <th></th>\n",
       "      <th>Age</th>\n",
       "      <th>WorkClass</th>\n",
       "      <th>FinalSamplingWeight</th>\n",
       "      <th>Education</th>\n",
       "      <th>EducationNumber</th>\n",
       "      <th>MaritalStatus</th>\n",
       "      <th>Occupation</th>\n",
       "      <th>Relationship</th>\n",
       "      <th>Race</th>\n",
       "      <th>Sex</th>\n",
       "      <th>CapitalGain</th>\n",
       "      <th>CapitalLoss</th>\n",
       "      <th>HoursPerWeek</th>\n",
       "      <th>NativeCountry</th>\n",
       "      <th>Income</th>\n",
       "    </tr>\n",
       "  </thead>\n",
       "  <tbody>\n",
       "    <tr>\n",
       "      <th>0</th>\n",
       "      <td>39</td>\n",
       "      <td>State-gov</td>\n",
       "      <td>77516</td>\n",
       "      <td>Bachelors</td>\n",
       "      <td>13</td>\n",
       "      <td>Never-married</td>\n",
       "      <td>Adm-clerical</td>\n",
       "      <td>Not-in-family</td>\n",
       "      <td>White</td>\n",
       "      <td>Male</td>\n",
       "      <td>2174</td>\n",
       "      <td>0</td>\n",
       "      <td>40</td>\n",
       "      <td>United-States</td>\n",
       "      <td>Low</td>\n",
       "    </tr>\n",
       "    <tr>\n",
       "      <th>1</th>\n",
       "      <td>50</td>\n",
       "      <td>Self-emp-not-inc</td>\n",
       "      <td>83311</td>\n",
       "      <td>Bachelors</td>\n",
       "      <td>13</td>\n",
       "      <td>Married-civ-spouse</td>\n",
       "      <td>Exec-managerial</td>\n",
       "      <td>Husband</td>\n",
       "      <td>White</td>\n",
       "      <td>Male</td>\n",
       "      <td>0</td>\n",
       "      <td>0</td>\n",
       "      <td>13</td>\n",
       "      <td>United-States</td>\n",
       "      <td>Low</td>\n",
       "    </tr>\n",
       "    <tr>\n",
       "      <th>2</th>\n",
       "      <td>38</td>\n",
       "      <td>Private</td>\n",
       "      <td>215646</td>\n",
       "      <td>HS-grad</td>\n",
       "      <td>9</td>\n",
       "      <td>Divorced</td>\n",
       "      <td>Handlers-cleaners</td>\n",
       "      <td>Not-in-family</td>\n",
       "      <td>White</td>\n",
       "      <td>Male</td>\n",
       "      <td>0</td>\n",
       "      <td>0</td>\n",
       "      <td>40</td>\n",
       "      <td>United-States</td>\n",
       "      <td>Low</td>\n",
       "    </tr>\n",
       "    <tr>\n",
       "      <th>3</th>\n",
       "      <td>53</td>\n",
       "      <td>Private</td>\n",
       "      <td>234721</td>\n",
       "      <td>11th</td>\n",
       "      <td>7</td>\n",
       "      <td>Married-civ-spouse</td>\n",
       "      <td>Handlers-cleaners</td>\n",
       "      <td>Husband</td>\n",
       "      <td>Black</td>\n",
       "      <td>Male</td>\n",
       "      <td>0</td>\n",
       "      <td>0</td>\n",
       "      <td>40</td>\n",
       "      <td>United-States</td>\n",
       "      <td>Low</td>\n",
       "    </tr>\n",
       "    <tr>\n",
       "      <th>4</th>\n",
       "      <td>28</td>\n",
       "      <td>Private</td>\n",
       "      <td>338409</td>\n",
       "      <td>Bachelors</td>\n",
       "      <td>13</td>\n",
       "      <td>Married-civ-spouse</td>\n",
       "      <td>Prof-specialty</td>\n",
       "      <td>Wife</td>\n",
       "      <td>Black</td>\n",
       "      <td>Female</td>\n",
       "      <td>0</td>\n",
       "      <td>0</td>\n",
       "      <td>40</td>\n",
       "      <td>Cuba</td>\n",
       "      <td>Low</td>\n",
       "    </tr>\n",
       "  </tbody>\n",
       "</table>\n",
       "</div>"
      ],
      "text/plain": [
       "   Age         WorkClass  FinalSamplingWeight  Education  EducationNumber  \\\n",
       "0   39         State-gov                77516  Bachelors               13   \n",
       "1   50  Self-emp-not-inc                83311  Bachelors               13   \n",
       "2   38           Private               215646    HS-grad                9   \n",
       "3   53           Private               234721       11th                7   \n",
       "4   28           Private               338409  Bachelors               13   \n",
       "\n",
       "        MaritalStatus         Occupation   Relationship   Race     Sex  \\\n",
       "0       Never-married       Adm-clerical  Not-in-family  White    Male   \n",
       "1  Married-civ-spouse    Exec-managerial        Husband  White    Male   \n",
       "2            Divorced  Handlers-cleaners  Not-in-family  White    Male   \n",
       "3  Married-civ-spouse  Handlers-cleaners        Husband  Black    Male   \n",
       "4  Married-civ-spouse     Prof-specialty           Wife  Black  Female   \n",
       "\n",
       "   CapitalGain  CapitalLoss  HoursPerWeek  NativeCountry Income  \n",
       "0         2174            0            40  United-States    Low  \n",
       "1            0            0            13  United-States    Low  \n",
       "2            0            0            40  United-States    Low  \n",
       "3            0            0            40  United-States    Low  \n",
       "4            0            0            40           Cuba    Low  "
      ]
     },
     "execution_count": 3,
     "metadata": {},
     "output_type": "execute_result"
    }
   ],
   "source": [
    "def drop_missing(data):\n",
    "    data.dropna(inplace=True)\n",
    "    data.index = pd.RangeIndex(len(data.index))\n",
    "\n",
    "drop_missing(data_train)\n",
    "drop_missing(data_test)\n",
    "\n",
    "data_train.info()\n",
    "data_train.head()"
   ]
  },
  {
   "cell_type": "code",
   "execution_count": 4,
   "metadata": {},
   "outputs": [],
   "source": [
    "def create_train_input(x, y, batch_size=32): \n",
    "    return tf.estimator.inputs.pandas_input_fn(\n",
    "        x=x, y=y, batch_size=batch_size, num_epochs=None, shuffle=True)\n",
    "\n",
    "def create_test_input(x, y):\n",
    "    return tf.estimator.inputs.pandas_input_fn(\n",
    "        x=x, y=y, num_epochs=1, shuffle=False)"
   ]
  },
  {
   "cell_type": "code",
   "execution_count": 5,
   "metadata": {},
   "outputs": [],
   "source": [
    "y_train = data_train.pop('Income').apply(lambda y: y == 'High')\n",
    "x_train = data_train\n",
    "\n",
    "y_test = data_test.pop('Income').apply(lambda y: y == 'High')\n",
    "x_test = data_test"
   ]
  },
  {
   "cell_type": "code",
   "execution_count": 6,
   "metadata": {},
   "outputs": [],
   "source": [
    "age = tf.feature_column.numeric_column('Age')\n",
    "\n",
    "age_bucket = tf.feature_column.bucketized_column(\n",
    "    age, boundaries=[30, 40, 50, 60, 70])\n",
    "\n",
    "education = tf.feature_column.categorical_column_with_vocabulary_list(\n",
    "    'Education', feature_variants().get('Education'))\n",
    "\n",
    "country = tf.feature_column.categorical_column_with_hash_bucket(\n",
    "    'NativeCountry', 1000)\n",
    "\n",
    "age_bucket_education = tf.feature_column.crossed_column(\n",
    "    [age_bucket, education], hash_bucket_size=int(1e4))\n",
    "\n",
    "feature_columns = [\n",
    "    age,\n",
    "    age_bucket,\n",
    "    education,\n",
    "    country,\n",
    "    age_bucket_education,\n",
    "]"
   ]
  },
  {
   "cell_type": "code",
   "execution_count": 7,
   "metadata": {
    "scrolled": false
   },
   "outputs": [
    {
     "name": "stdout",
     "output_type": "stream",
     "text": [
      "INFO:tensorflow:Using default config.\n",
      "INFO:tensorflow:Using config: {'_save_checkpoints_steps': None, '_save_summary_steps': 100, '_tf_random_seed': None, '_keep_checkpoint_every_n_hours': 10000, '_service': None, '_is_chief': True, '_save_checkpoints_secs': 600, '_session_config': None, '_num_ps_replicas': 0, '_master': '', '_task_type': 'worker', '_num_worker_replicas': 1, '_task_id': 0, '_keep_checkpoint_max': 5, '_log_step_count_steps': 100, '_model_dir': 'model/linear', '_cluster_spec': <tensorflow.python.training.server_lib.ClusterSpec object at 0x7f1b9634ea90>}\n",
      "INFO:tensorflow:Create CheckpointSaverHook.\n",
      "INFO:tensorflow:Restoring parameters from model/linear/model.ckpt-2000\n",
      "INFO:tensorflow:Saving checkpoints for 2001 into model/linear/model.ckpt.\n",
      "INFO:tensorflow:loss = 12.4873, step = 2001\n",
      "INFO:tensorflow:global_step/sec: 291.039\n",
      "INFO:tensorflow:loss = 14.3849, step = 2101 (0.347 sec)\n",
      "INFO:tensorflow:global_step/sec: 388.313\n",
      "INFO:tensorflow:loss = 12.6078, step = 2201 (0.256 sec)\n",
      "INFO:tensorflow:global_step/sec: 448.798\n",
      "INFO:tensorflow:loss = 18.3824, step = 2301 (0.226 sec)\n",
      "INFO:tensorflow:global_step/sec: 400.367\n",
      "INFO:tensorflow:loss = 15.4815, step = 2401 (0.246 sec)\n",
      "INFO:tensorflow:global_step/sec: 401.939\n",
      "INFO:tensorflow:loss = 12.4963, step = 2501 (0.247 sec)\n",
      "INFO:tensorflow:global_step/sec: 352.142\n",
      "INFO:tensorflow:loss = 17.9235, step = 2601 (0.284 sec)\n",
      "INFO:tensorflow:global_step/sec: 397.41\n",
      "INFO:tensorflow:loss = 14.0414, step = 2701 (0.253 sec)\n",
      "INFO:tensorflow:global_step/sec: 394.591\n",
      "INFO:tensorflow:loss = 16.5792, step = 2801 (0.258 sec)\n",
      "INFO:tensorflow:global_step/sec: 383.844\n",
      "INFO:tensorflow:loss = 18.8471, step = 2901 (0.260 sec)\n",
      "INFO:tensorflow:Saving checkpoints for 3000 into model/linear/model.ckpt.\n",
      "INFO:tensorflow:Loss for final step: 13.1053.\n"
     ]
    }
   ],
   "source": [
    "estimator = tf.estimator.LinearClassifier(\n",
    "    feature_columns, model_dir='model/linear', n_classes=2)\n",
    "\n",
    "estimator.train(create_train_input(x_train, y_train), steps=1000);"
   ]
  },
  {
   "cell_type": "code",
   "execution_count": 8,
   "metadata": {},
   "outputs": [
    {
     "name": "stdout",
     "output_type": "stream",
     "text": [
      "WARNING:tensorflow:Casting <dtype: 'float32'> labels to bool.\n",
      "WARNING:tensorflow:Casting <dtype: 'float32'> labels to bool.\n",
      "INFO:tensorflow:Starting evaluation at 2018-01-12-14:18:39\n",
      "INFO:tensorflow:Restoring parameters from model/linear/model.ckpt-3000\n",
      "INFO:tensorflow:Finished evaluation at 2018-01-12-14:18:40\n",
      "INFO:tensorflow:Saving dict for global step 3000: accuracy = 0.776428, accuracy_baseline = 0.754316, auc = 0.787269, auc_precision_recall = 0.541287, average_loss = 0.463707, global_step = 3000, label/mean = 0.245684, loss = 59.1816, prediction/mean = 0.190615\n"
     ]
    },
    {
     "data": {
      "text/plain": [
       "{'accuracy': 0.77642763,\n",
       " 'accuracy_baseline': 0.75431609,\n",
       " 'auc': 0.78726882,\n",
       " 'auc_precision_recall': 0.54128659,\n",
       " 'average_loss': 0.46370745,\n",
       " 'global_step': 3000,\n",
       " 'label/mean': 0.24568394,\n",
       " 'loss': 59.181644,\n",
       " 'prediction/mean': 0.1906146}"
      ]
     },
     "execution_count": 8,
     "metadata": {},
     "output_type": "execute_result"
    }
   ],
   "source": [
    "estimator.evaluate(create_test_input(x_test, y_test))"
   ]
  },
  {
   "cell_type": "code",
   "execution_count": 9,
   "metadata": {},
   "outputs": [],
   "source": [
    "marital_status = tf.feature_column.categorical_column_with_vocabulary_list(\n",
    "    'MaritalStatus', feature_variants().get('MaritalStatus'))\n",
    "\n",
    "occupation = tf.feature_column.categorical_column_with_hash_bucket(\n",
    "    'Occupation', 100)\n",
    "     \n",
    "relationship = tf.feature_column.categorical_column_with_vocabulary_list(\n",
    "    'Relationship', feature_variants().get('Relationship'))\n",
    "\n",
    "work_class = tf.feature_column.categorical_column_with_vocabulary_list(\n",
    "    'WorkClass', feature_variants().get('WorkClass'))\n",
    "\n",
    "feature_columns = [\n",
    "    age,\n",
    "    tf.feature_column.indicator_column(education),\n",
    "    tf.feature_column.indicator_column(marital_status),\n",
    "    tf.feature_column.embedding_column(occupation, 10),\n",
    "    tf.feature_column.indicator_column(relationship),\n",
    "    tf.feature_column.indicator_column(work_class),\n",
    "]"
   ]
  },
  {
   "cell_type": "code",
   "execution_count": 10,
   "metadata": {},
   "outputs": [
    {
     "name": "stdout",
     "output_type": "stream",
     "text": [
      "INFO:tensorflow:Using default config.\n",
      "INFO:tensorflow:Using config: {'_save_checkpoints_steps': None, '_save_summary_steps': 100, '_tf_random_seed': None, '_keep_checkpoint_every_n_hours': 10000, '_service': None, '_is_chief': True, '_save_checkpoints_secs': 600, '_session_config': None, '_num_ps_replicas': 0, '_master': '', '_task_type': 'worker', '_num_worker_replicas': 1, '_task_id': 0, '_keep_checkpoint_max': 5, '_log_step_count_steps': 100, '_model_dir': 'model/deep', '_cluster_spec': <tensorflow.python.training.server_lib.ClusterSpec object at 0x7f1b95687c88>}\n",
      "INFO:tensorflow:Create CheckpointSaverHook.\n",
      "INFO:tensorflow:Restoring parameters from model/deep/model.ckpt-2000\n",
      "INFO:tensorflow:Saving checkpoints for 2001 into model/deep/model.ckpt.\n",
      "INFO:tensorflow:loss = 10.5445, step = 2001\n",
      "INFO:tensorflow:global_step/sec: 244.512\n",
      "INFO:tensorflow:loss = 20.4067, step = 2101 (0.412 sec)\n",
      "INFO:tensorflow:global_step/sec: 342.704\n",
      "INFO:tensorflow:loss = 11.0904, step = 2201 (0.291 sec)\n",
      "INFO:tensorflow:global_step/sec: 416.131\n",
      "INFO:tensorflow:loss = 7.7341, step = 2301 (0.242 sec)\n",
      "INFO:tensorflow:global_step/sec: 301.499\n",
      "INFO:tensorflow:loss = 12.1542, step = 2401 (0.330 sec)\n",
      "INFO:tensorflow:global_step/sec: 305.049\n",
      "INFO:tensorflow:loss = 12.0238, step = 2501 (0.331 sec)\n",
      "INFO:tensorflow:global_step/sec: 296.769\n",
      "INFO:tensorflow:loss = 10.3357, step = 2601 (0.336 sec)\n",
      "INFO:tensorflow:global_step/sec: 303.659\n",
      "INFO:tensorflow:loss = 8.99678, step = 2701 (0.332 sec)\n",
      "INFO:tensorflow:global_step/sec: 299.806\n",
      "INFO:tensorflow:loss = 7.01279, step = 2801 (0.331 sec)\n",
      "INFO:tensorflow:global_step/sec: 334.034\n",
      "INFO:tensorflow:loss = 13.6693, step = 2901 (0.298 sec)\n",
      "INFO:tensorflow:global_step/sec: 314.617\n",
      "INFO:tensorflow:loss = 14.4271, step = 3001 (0.319 sec)\n",
      "INFO:tensorflow:global_step/sec: 313.044\n",
      "INFO:tensorflow:loss = 11.1775, step = 3101 (0.319 sec)\n",
      "INFO:tensorflow:global_step/sec: 301.877\n",
      "INFO:tensorflow:loss = 8.60373, step = 3201 (0.329 sec)\n",
      "INFO:tensorflow:global_step/sec: 310.571\n",
      "INFO:tensorflow:loss = 9.56879, step = 3301 (0.322 sec)\n",
      "INFO:tensorflow:global_step/sec: 302.973\n",
      "INFO:tensorflow:loss = 9.32666, step = 3401 (0.332 sec)\n",
      "INFO:tensorflow:global_step/sec: 389.85\n",
      "INFO:tensorflow:loss = 11.5167, step = 3501 (0.257 sec)\n",
      "INFO:tensorflow:global_step/sec: 351.767\n",
      "INFO:tensorflow:loss = 11.3199, step = 3601 (0.285 sec)\n",
      "INFO:tensorflow:global_step/sec: 292.223\n",
      "INFO:tensorflow:loss = 7.01813, step = 3701 (0.342 sec)\n",
      "INFO:tensorflow:global_step/sec: 324.849\n",
      "INFO:tensorflow:loss = 8.40409, step = 3801 (0.306 sec)\n",
      "INFO:tensorflow:global_step/sec: 308.753\n",
      "INFO:tensorflow:loss = 9.25823, step = 3901 (0.326 sec)\n",
      "INFO:tensorflow:Saving checkpoints for 4000 into model/deep/model.ckpt.\n",
      "INFO:tensorflow:Loss for final step: 11.495.\n"
     ]
    }
   ],
   "source": [
    "estimator = tf.estimator.DNNClassifier(\n",
    "    hidden_units=[256, 128, 64], feature_columns=feature_columns, \n",
    "    n_classes=2, model_dir='model/deep')\n",
    "\n",
    "estimator.train(create_train_input(x_train, y_train), steps=2000);"
   ]
  },
  {
   "cell_type": "code",
   "execution_count": 11,
   "metadata": {},
   "outputs": [
    {
     "name": "stdout",
     "output_type": "stream",
     "text": [
      "WARNING:tensorflow:Casting <dtype: 'float32'> labels to bool.\n",
      "WARNING:tensorflow:Casting <dtype: 'float32'> labels to bool.\n",
      "INFO:tensorflow:Starting evaluation at 2018-01-12-14:18:48\n",
      "INFO:tensorflow:Restoring parameters from model/deep/model.ckpt-4000\n",
      "INFO:tensorflow:Finished evaluation at 2018-01-12-14:18:49\n",
      "INFO:tensorflow:Saving dict for global step 4000: accuracy = 0.830544, accuracy_baseline = 0.754316, auc = 0.883057, auc_precision_recall = 0.698147, average_loss = 0.358379, global_step = 4000, label/mean = 0.245684, loss = 45.7389, prediction/mean = 0.24402\n"
     ]
    },
    {
     "data": {
      "text/plain": [
       "{'accuracy': 0.83054447,\n",
       " 'accuracy_baseline': 0.75431609,\n",
       " 'auc': 0.88305688,\n",
       " 'auc_precision_recall': 0.69814718,\n",
       " 'average_loss': 0.35837924,\n",
       " 'global_step': 4000,\n",
       " 'label/mean': 0.24568394,\n",
       " 'loss': 45.738911,\n",
       " 'prediction/mean': 0.24401987}"
      ]
     },
     "execution_count": 11,
     "metadata": {},
     "output_type": "execute_result"
    }
   ],
   "source": [
    "estimator.evaluate(create_test_input(x_test, y_test))"
   ]
  }
 ],
 "metadata": {
  "kernelspec": {
   "display_name": "Python 3",
   "language": "python",
   "name": "python3"
  },
  "language_info": {
   "codemirror_mode": {
    "name": "ipython",
    "version": 3
   },
   "file_extension": ".py",
   "mimetype": "text/x-python",
   "name": "python",
   "nbconvert_exporter": "python",
   "pygments_lexer": "ipython3",
   "version": "3.5.2"
  }
 },
 "nbformat": 4,
 "nbformat_minor": 2
}
