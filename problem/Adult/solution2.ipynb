{
 "cells": [
  {
   "cell_type": "markdown",
   "metadata": {},
   "source": [
    "## References\n",
    "\n",
    "* [Adult Data Set](https://archive.ics.uci.edu/ml/datasets/Adult) (UCI)\n",
    "* [Intro to Feature Engineering with TensorFlow](https://www.youtube.com/watch?v=d12ra3b_M-0) (Josh Gordon, YouTube)"
   ]
  },
  {
   "cell_type": "code",
   "execution_count": null,
   "metadata": {},
   "outputs": [],
   "source": [
    "import tensorflow as tf\n",
    "\n",
    "from common import column_defaults\n",
    "\n",
    "tf.set_random_seed(0)"
   ]
  },
  {
   "cell_type": "code",
   "execution_count": null,
   "metadata": {},
   "outputs": [],
   "source": [
    "defaults = column_defaults()"
   ]
  },
  {
   "cell_type": "code",
   "execution_count": null,
   "metadata": {},
   "outputs": [],
   "source": [
    "def clean(line):\n",
    "    return tf.not_equal(tf.size(tf.string_split([line], ',').values), 0)\n",
    "\n",
    "def decode(line):\n",
    "    parsed = tf.decode_csv(line, list(defaults.values()))\n",
    "    return dict(zip(defaults.keys(), parsed))\n",
    "\n",
    "def create_train_input(path, batch_size=32, buffer_size=1000):\n",
    "    def function():    \n",
    "        dataset = (\n",
    "            tf.data.TextLineDataset(path)\n",
    "                .filter(clean)\n",
    "                .map(decode)\n",
    "                .shuffle(buffer_size=buffer_size)\n",
    "                .repeat()\n",
    "                .batch(batch_size)\n",
    "        )\n",
    "        columns = dataset.make_one_shot_iterator().get_next()\n",
    "        income = tf.equal(columns.pop('Income'), ' >50K') \n",
    "        return columns, income\n",
    "    return function\n",
    "\n",
    "def create_test_input(path, batch_size=32):\n",
    "    def function():    \n",
    "        dataset = (\n",
    "            tf.contrib.data.TextLineDataset(path)\n",
    "                .skip(1)\n",
    "                .filter(clean)\n",
    "                .map(decode)\n",
    "                .batch(batch_size)\n",
    "        )\n",
    "        columns = dataset.make_one_shot_iterator().get_next()\n",
    "        income = tf.equal(columns.pop('Income'), ' >50K.') \n",
    "        return columns, income\n",
    "    return function"
   ]
  },
  {
   "cell_type": "code",
   "execution_count": null,
   "metadata": {},
   "outputs": [],
   "source": [
    "train_input = create_train_input('data/train.csv')\n",
    "test_input = create_test_input('data/test.csv')"
   ]
  },
  {
   "cell_type": "code",
   "execution_count": null,
   "metadata": {},
   "outputs": [],
   "source": [
    "feature_columns = [\n",
    "    tf.feature_column.numeric_column('Age'),\n",
    "]\n",
    "\n",
    "estimator = tf.estimator.DNNClassifier(\n",
    "    hidden_units=[256, 128, 64], feature_columns=feature_columns, \n",
    "    n_classes=2, model_dir='model/deep')\n",
    "\n",
    "estimator.train(train_input, steps=2000)"
   ]
  },
  {
   "cell_type": "code",
   "execution_count": null,
   "metadata": {},
   "outputs": [],
   "source": [
    "estimator.evaluate(test_input)"
   ]
  }
 ],
 "metadata": {
  "kernelspec": {
   "display_name": "Python 3",
   "language": "python",
   "name": "python3"
  },
  "language_info": {
   "codemirror_mode": {
    "name": "ipython",
    "version": 3
   },
   "file_extension": ".py",
   "mimetype": "text/x-python",
   "name": "python",
   "nbconvert_exporter": "python",
   "pygments_lexer": "ipython3"
  }
 },
 "nbformat": 4,
 "nbformat_minor": 2
}
