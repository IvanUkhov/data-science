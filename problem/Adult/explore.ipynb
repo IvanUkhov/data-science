{
 "cells": [
  {
   "cell_type": "markdown",
   "metadata": {},
   "source": [
    "## References\n",
    "\n",
    "* [Adult Data Set](https://archive.ics.uci.edu/ml/datasets/Adult) (UCI)\n",
    "* [Intro to Feature Engineering with TensorFlow](https://www.youtube.com/watch?v=d12ra3b_M-0) (Josh Gordon, YouTube)"
   ]
  },
  {
   "cell_type": "code",
   "execution_count": null,
   "metadata": {},
   "outputs": [],
   "source": [
    "import os\n",
    "import sys\n",
    "\n",
    "sys.path.append(os.path.join('facets/facets_overview/python'))\n",
    "\n",
    "import base64\n",
    "import pandas as pd\n",
    "\n",
    "from IPython.core.display import display, HTML\n",
    "from generic_feature_statistics_generator import GenericFeatureStatisticsGenerator\n",
    "\n",
    "display(HTML(\"\"\"\n",
    "<style>.container { width:100% !important; }</style>\n",
    "<link rel='import' href='/nbextensions/facets-dist/facets-jupyter.html'>\n",
    "\"\"\"))"
   ]
  },
  {
   "cell_type": "code",
   "execution_count": null,
   "metadata": {},
   "outputs": [],
   "source": [
    "path = 'data/minor.csv'"
   ]
  },
  {
   "cell_type": "code",
   "execution_count": null,
   "metadata": {},
   "outputs": [],
   "source": [
    "feature_names = [\n",
    "    'Age',\n",
    "    'Workclass',\n",
    "    'fnlwgt',\n",
    "    'Education',\n",
    "    'Education-Num',\n",
    "    'Marital Status',\n",
    "    'Occupation',\n",
    "    'Relationship',\n",
    "    'Race',\n",
    "    'Sex',\n",
    "    'Capital Gain',\n",
    "    'Capital Loss',\n",
    "    'Hours per week',\n",
    "    'Country',\n",
    "    'Target',\n",
    "]\n",
    "\n",
    "data = pd.read_csv(path, names=feature_names, sep=r'\\s*,\\s*',\n",
    "                   engine='python', skiprows=[0], na_values='?')"
   ]
  },
  {
   "cell_type": "code",
   "execution_count": null,
   "metadata": {},
   "outputs": [],
   "source": [
    "generator = GenericFeatureStatisticsGenerator()\n",
    "proto = generator.ProtoFromDataFrames([{'name': 'adult', 'table': data}])\n",
    "protostr = base64.b64encode(proto.SerializeToString()).decode('utf-8')\n",
    "\n",
    "template = \"\"\"\n",
    "<facets-overview id='overview'></facets-overview>\n",
    "<script>\n",
    "document.querySelector('#overview').protoInput = '{data}';\n",
    "</script>\"\"\"\n",
    "\n",
    "display(HTML(template.format(data=protostr)))"
   ]
  },
  {
   "cell_type": "code",
   "execution_count": null,
   "metadata": {
    "scrolled": false
   },
   "outputs": [],
   "source": [
    "jsonstr = data.to_json(orient='records')\n",
    "\n",
    "template = \"\"\"\n",
    "<facets-dive id='dive' height='600'></facets-dive>\n",
    "<script>\n",
    "var data = {data};\n",
    "document.querySelector('#dive').data = data;\n",
    "</script>\n",
    "\"\"\"\n",
    "\n",
    "display(HTML(template.format(data=jsonstr)))"
   ]
  },
  {
   "cell_type": "code",
   "execution_count": null,
   "metadata": {},
   "outputs": [],
   "source": []
  }
 ],
 "metadata": {
  "kernelspec": {
   "display_name": "Python 3",
   "language": "python",
   "name": "python3"
  },
  "language_info": {
   "codemirror_mode": {
    "name": "ipython",
    "version": 3
   },
   "file_extension": ".py",
   "mimetype": "text/x-python",
   "name": "python",
   "nbconvert_exporter": "python",
   "pygments_lexer": "ipython3",
   "version": "3.5.2"
  }
 },
 "nbformat": 4,
 "nbformat_minor": 2
}
