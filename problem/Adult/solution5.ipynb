{
 "cells": [
  {
   "cell_type": "markdown",
   "metadata": {},
   "source": [
    "## References\n",
    "\n",
    "* [Adult Data Set](https://archive.ics.uci.edu/ml/datasets/Adult) (UCI)\n",
    "* [Find p-value (significance) in scikit-learn LinearRegression](https://stackoverflow.com/questions/27928275/find-p-value-significance-in-scikit-learn-linearregression) (Stack Overflow)\n",
    "* [How to compute the standard errors of a logistic regression's coefficients](https://stats.stackexchange.com/questions/89484/how-to-compute-the-standard-errors-of-a-logistic-regressions-coefficients) (Cross Validated)\n",
    "* [Multiple linear regression](http://docs.roguewave.com/legacy-hpp/anaug/3-2.html) (Rogue Wave)\n",
    "* [Logistic regression](http://docs.roguewave.com/legacy-hpp/anaug/3-3.html) (Rogue Wave)"
   ]
  },
  {
   "cell_type": "code",
   "execution_count": null,
   "metadata": {},
   "outputs": [],
   "source": [
    "import numpy as np\n",
    "import pandas as pd\n",
    "\n",
    "from collections import OrderedDict\n",
    "from problem import Dataset, column_variants, encode_categorical, load_data\n",
    "from scipy import stats\n",
    "from sklearn.linear_model import LinearRegression, LogisticRegression\n",
    "from sklearn.preprocessing import StandardScaler"
   ]
  },
  {
   "cell_type": "code",
   "execution_count": null,
   "metadata": {},
   "outputs": [],
   "source": [
    "np.random.seed(0)\n",
    "pd.set_option('display.float_format', '{:.4f}'.format)\n",
    "pd.set_option('display.height', 100)\n",
    "pd.set_option('display.max_rows', 100)"
   ]
  },
  {
   "cell_type": "code",
   "execution_count": null,
   "metadata": {},
   "outputs": [],
   "source": [
    "def test_linear(x, y, y_hat, coefficients, coefficients_null=0):\n",
    "    variance = sum((y - y_hat)**2) / (x.shape[0] - x.shape[1])\n",
    "    covariance = variance * np.linalg.inv(np.dot(x.T, x))\n",
    "    standard_errors = np.sqrt(np.diag(covariance))\n",
    "    t_values = (coefficients - coefficients_null) / standard_errors\n",
    "    p_values = [2 * (1 - stats.t.cdf(np.abs(t), (x.shape[0] - 1))) for t in t_values]\n",
    "    return pd.DataFrame(index=x.columns, data=OrderedDict([\n",
    "        ('Coefficient', coefficients),\n",
    "        ('Standard error', standard_errors),\n",
    "        ('T-value', t_values),\n",
    "        ('P-value', p_values),\n",
    "    ]))\n",
    "\n",
    "def test_logistic(x, y, y_score, coefficients, coefficients_null=0):\n",
    "    variance = np.prod(y_score, axis=1)\n",
    "    covariance = np.linalg.inv(np.dot(x.T, np.multiply(variance[:, None], x)))\n",
    "    standard_errors = np.sqrt(np.diag(covariance))\n",
    "    t_values = (coefficients - coefficients_null) / standard_errors\n",
    "    p_values = [2 * (1 - stats.t.cdf(np.abs(t), (x.shape[0] - 1))) for t in t_values]\n",
    "    return pd.DataFrame(index=x.columns, data=OrderedDict([\n",
    "        ('Coefficient', coefficients),\n",
    "        ('Standard error', standard_errors),\n",
    "        ('T-value', t_values),\n",
    "        ('P-value', p_values),\n",
    "    ]))"
   ]
  },
  {
   "cell_type": "code",
   "execution_count": null,
   "metadata": {},
   "outputs": [],
   "source": [
    "unused = [\n",
    "    'CapitalGain',\n",
    "    'CapitalLoss',\n",
    "    'EducationNumber',\n",
    "    'FinalSamplingWeight',\n",
    "]\n",
    "\n",
    "categorical = [\n",
    "    'Education',\n",
    "    'MaritalStatus',\n",
    "    'NativeCountry',\n",
    "    'Occupation',\n",
    "    'Race',\n",
    "    'Relationship',\n",
    "    'Sex',\n",
    "    'WorkClass',\n",
    "]\n",
    "\n",
    "numerical = [\n",
    "    'Age',\n",
    "    'HoursPerWeek',\n",
    "]\n",
    "\n",
    "data = load_data('data/train.csv')\n",
    "data.dropna(inplace=True)\n",
    "data.drop(unused, axis=1, inplace=True)\n",
    "data.reset_index(drop=True, inplace=True)\n",
    "\n",
    "for name in categorical:\n",
    "    data = encode_categorical(data, name)\n",
    "\n",
    "scaler = StandardScaler()\n",
    "scaler.fit(data[numerical])\n",
    "data[numerical] = scaler.transform(data[numerical])\n",
    "\n",
    "y = data.pop('Income')\n",
    "x = data"
   ]
  },
  {
   "cell_type": "code",
   "execution_count": null,
   "metadata": {},
   "outputs": [],
   "source": [
    "linear = LinearRegression()\n",
    "linear.fit(x, y)\n",
    "y_hat = linear.predict(x)\n",
    "\n",
    "logistic = LogisticRegression()\n",
    "logistic.fit(x, y)\n",
    "y_score = logistic.predict_proba(x)\n",
    "\n",
    "x = pd.DataFrame({'Intercept': np.ones(len(x))}).join(pd.DataFrame(x))\n",
    "\n",
    "linear = test_linear(x, y, y_hat, np.append(linear.intercept_, linear.coef_))\n",
    "logistic = test_logistic(x, y, y_score, np.append(logistic.intercept_, logistic.coef_))"
   ]
  },
  {
   "cell_type": "code",
   "execution_count": null,
   "metadata": {},
   "outputs": [],
   "source": [
    "columns = [['Linear', 'Logistic'], linear.columns]\n",
    "columns = pd.MultiIndex.from_product(columns, names=['Model', 'Summary'])\n",
    "pd.DataFrame(np.hstack((linear, logistic)), columns=columns, index=linear.index)"
   ]
  }
 ],
 "metadata": {
  "kernelspec": {
   "display_name": "Python 3",
   "language": "python",
   "name": "python3"
  },
  "language_info": {
   "codemirror_mode": {
    "name": "ipython",
    "version": 3
   },
   "file_extension": ".py",
   "mimetype": "text/x-python",
   "name": "python",
   "nbconvert_exporter": "python",
   "pygments_lexer": "ipython3"
  }
 },
 "nbformat": 4,
 "nbformat_minor": 2
}
