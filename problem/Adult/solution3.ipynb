{
 "cells": [
  {
   "cell_type": "markdown",
   "metadata": {},
   "source": [
    "## References\n",
    "\n",
    "* [Adult Data Set](https://archive.ics.uci.edu/ml/datasets/Adult) (UCI)"
   ]
  },
  {
   "cell_type": "code",
   "execution_count": null,
   "metadata": {},
   "outputs": [],
   "source": [
    "import matplotlib.pyplot as pp\n",
    "import numpy as np\n",
    "import pandas as pd\n",
    "import seaborn as sb\n",
    "import tensorflow as tf\n",
    "\n",
    "from common import column_variants, drop_missing, load_dataset, plot_confusion\n",
    "\n",
    "np.random.seed(0)\n",
    "tf.set_random_seed(0)"
   ]
  },
  {
   "cell_type": "code",
   "execution_count": null,
   "metadata": {},
   "outputs": [],
   "source": [
    "data_train = load_dataset('data/train.csv')\n",
    "data_test = load_dataset('data/test.csv', skiprows=1)\n",
    "\n",
    "drop_missing(data_train)\n",
    "drop_missing(data_test)\n",
    "\n",
    "data_train.info()\n",
    "data_train.head()"
   ]
  },
  {
   "cell_type": "code",
   "execution_count": null,
   "metadata": {},
   "outputs": [],
   "source": [
    "sb.countplot(data_train['Income'])"
   ]
  },
  {
   "cell_type": "code",
   "execution_count": null,
   "metadata": {},
   "outputs": [],
   "source": [
    "def extract_that(data, column, value):\n",
    "    return data[data[column] == value]\n",
    "\n",
    "def choose_that(data, column, value, count):\n",
    "    index = data[data[column] == value].index\n",
    "    index = np.random.choice(index, count, replace=False)\n",
    "    return data.loc[index]\n",
    "\n",
    "data_train_high = extract_that(data_train, 'Income', 'High')\n",
    "data_train_low = choose_that(data_train, 'Income', 'Low', len(data_train_high))\n",
    "data_train = pd.concat([data_train_high, data_train_low])\n",
    "data_train = data_train.sample(frac=1).reset_index(drop=True)"
   ]
  },
  {
   "cell_type": "code",
   "execution_count": null,
   "metadata": {},
   "outputs": [],
   "source": [
    "sb.countplot(data_train['Income'])"
   ]
  },
  {
   "cell_type": "code",
   "execution_count": null,
   "metadata": {},
   "outputs": [],
   "source": [
    "def create_train_input(x, y, batch_size=32): \n",
    "    return tf.estimator.inputs.pandas_input_fn(\n",
    "        x=x, y=y, batch_size=batch_size, num_epochs=None, shuffle=True)\n",
    "\n",
    "def create_test_input(x, y):\n",
    "    return tf.estimator.inputs.pandas_input_fn(\n",
    "        x=x, y=y, num_epochs=1, shuffle=False)\n",
    "\n",
    "def create_predict_input(x):\n",
    "    return tf.estimator.inputs.pandas_input_fn(\n",
    "        x=x, num_epochs=1, shuffle=False)\n",
    "\n",
    "y_train = data_train.pop('Income')\n",
    "x_train = data_train\n",
    "\n",
    "y_test = data_test.pop('Income')\n",
    "x_test = data_test"
   ]
  },
  {
   "cell_type": "code",
   "execution_count": null,
   "metadata": {},
   "outputs": [],
   "source": [
    "age = tf.feature_column.numeric_column('Age')\n",
    "\n",
    "education = tf.feature_column.categorical_column_with_vocabulary_list(\n",
    "    'Education', column_variants().get('Education'))\n",
    "\n",
    "marital_status = tf.feature_column.categorical_column_with_vocabulary_list(\n",
    "    'MaritalStatus', column_variants().get('MaritalStatus'))\n",
    "\n",
    "occupation = tf.feature_column.categorical_column_with_vocabulary_list(\n",
    "    'Occupation', column_variants().get('Occupation'))\n",
    "\n",
    "race = tf.feature_column.categorical_column_with_vocabulary_list(\n",
    "    'Race', column_variants().get('Race'))\n",
    "\n",
    "relationship = tf.feature_column.categorical_column_with_vocabulary_list(\n",
    "    'Relationship', column_variants().get('Relationship'))\n",
    "\n",
    "sex = tf.feature_column.categorical_column_with_vocabulary_list(\n",
    "    'Sex', column_variants().get('Sex'))\n",
    "\n",
    "work_class = tf.feature_column.categorical_column_with_vocabulary_list(\n",
    "    'WorkClass', column_variants().get('WorkClass'))\n",
    "\n",
    "feature_columns = [\n",
    "    tf.feature_column.bucketized_column(age, boundaries=[30, 40, 50, 60, 70]),\n",
    "    tf.feature_column.indicator_column(education),\n",
    "    tf.feature_column.indicator_column(marital_status),\n",
    "    tf.feature_column.indicator_column(occupation),\n",
    "    tf.feature_column.indicator_column(race),\n",
    "    tf.feature_column.indicator_column(relationship),\n",
    "    tf.feature_column.indicator_column(sex),\n",
    "    tf.feature_column.indicator_column(work_class),\n",
    "]"
   ]
  },
  {
   "cell_type": "code",
   "execution_count": null,
   "metadata": {
    "scrolled": false
   },
   "outputs": [],
   "source": [
    "model = tf.estimator.DNNClassifier(\n",
    "    hidden_units=[256, 128, 64],\n",
    "    feature_columns=feature_columns,\n",
    "    label_vocabulary=column_variants().get('Income'),\n",
    "    optimizer='Adam', model_dir='/tmp/model')\n",
    "\n",
    "model.train(create_train_input(x_train, y_train), steps=2000)\n",
    "metrics = model.evaluate(create_test_input(x_test, y_test))"
   ]
  },
  {
   "cell_type": "code",
   "execution_count": null,
   "metadata": {},
   "outputs": [],
   "source": [
    "y_pred = [prediction['classes'][0] for prediction in model.predict(create_predict_input(x_test))]\n",
    "y_pred = pd.Series(y_pred).map({b'Low': 0, b'High': 1})\n",
    "y_real = y_test.map({'Low': 0, 'High': 1})\n",
    "\n",
    "confusion = tf.confusion_matrix(list(y_real), list(y_pred))\n",
    "confusion = tf.Session().run(confusion)\n",
    "confusion = pd.DataFrame(confusion, index=['Low', 'High'], columns=['Low', 'High'])\n",
    "\n",
    "display(confusion)\n",
    "plot_confusion(confusion)"
   ]
  },
  {
   "cell_type": "code",
   "execution_count": null,
   "metadata": {},
   "outputs": [],
   "source": [
    "def print_metric(name, value):\n",
    "    print('{}: {:.2f}%'.format(name, 100 * value))\n",
    "\n",
    "true_positive = confusion.iloc[1, 1]\n",
    "true_negative = confusion.iloc[0, 0]\n",
    "false_positive = confusion.iloc[0, 1]\n",
    "false_negative = confusion.iloc[1, 0]\n",
    "\n",
    "positive = true_positive + false_negative\n",
    "negative = true_negative + false_positive\n",
    "\n",
    "all = positive + negative\n",
    "\n",
    "print_metric('Error', (false_positive + false_negative) / all)\n",
    "print_metric('Accuracy', (true_positive + true_negative) / all)\n",
    "print_metric('Precision', true_positive / (true_positive + false_positive))\n",
    "print_metric('Recall', true_positive / (true_positive + false_negative))\n",
    "print_metric('AUC (true/false positive)', metrics['auc'])\n",
    "print_metric('AUC (precision/recall)', metrics['auc_precision_recall'])"
   ]
  }
 ],
 "metadata": {
  "kernelspec": {
   "display_name": "Python 3",
   "language": "python",
   "name": "python3"
  },
  "language_info": {
   "codemirror_mode": {
    "name": "ipython",
    "version": 3
   },
   "file_extension": ".py",
   "mimetype": "text/x-python",
   "name": "python",
   "nbconvert_exporter": "python",
   "pygments_lexer": "ipython3"
  }
 },
 "nbformat": 4,
 "nbformat_minor": 2
}
