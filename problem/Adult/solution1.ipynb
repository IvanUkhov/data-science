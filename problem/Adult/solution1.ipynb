{
 "cells": [
  {
   "cell_type": "markdown",
   "metadata": {},
   "source": [
    "## References\n",
    "\n",
    "* [Adult Data Set](https://archive.ics.uci.edu/ml/datasets/Adult) (UCI)\n",
    "* [Intro to Feature Engineering with TensorFlow](https://www.youtube.com/watch?v=d12ra3b_M-0) (Josh Gordon, YouTube)"
   ]
  },
  {
   "cell_type": "code",
   "execution_count": null,
   "metadata": {},
   "outputs": [],
   "source": [
    "import numpy as np\n",
    "import pandas as pd\n",
    "import tensorflow as tf\n",
    "\n",
    "from common import column_variants, load_dataset\n",
    "\n",
    "np.random.seed(0)\n",
    "tf.set_random_seed(0)"
   ]
  },
  {
   "cell_type": "code",
   "execution_count": null,
   "metadata": {},
   "outputs": [],
   "source": [
    "data_train = load_dataset('data/train.csv')\n",
    "data_test = load_dataset('data/test.csv', skiprows=1)\n",
    "\n",
    "data_train.info()"
   ]
  },
  {
   "cell_type": "code",
   "execution_count": null,
   "metadata": {},
   "outputs": [],
   "source": [
    "def drop_missing(data):\n",
    "    data.dropna(inplace=True)\n",
    "    data.index = pd.RangeIndex(len(data.index))\n",
    "\n",
    "drop_missing(data_train)\n",
    "drop_missing(data_test)\n",
    "\n",
    "data_train.info()\n",
    "data_train.head()"
   ]
  },
  {
   "cell_type": "code",
   "execution_count": null,
   "metadata": {},
   "outputs": [],
   "source": [
    "def create_train_input(x, y, batch_size=32): \n",
    "    return tf.estimator.inputs.pandas_input_fn(\n",
    "        x=x, y=y, batch_size=batch_size, num_epochs=None, shuffle=True)\n",
    "\n",
    "def create_test_input(x, y):\n",
    "    return tf.estimator.inputs.pandas_input_fn(\n",
    "        x=x, y=y, num_epochs=1, shuffle=False)"
   ]
  },
  {
   "cell_type": "code",
   "execution_count": null,
   "metadata": {},
   "outputs": [],
   "source": [
    "y_train = data_train.pop('Income').apply(lambda y: y == 'High')\n",
    "x_train = data_train\n",
    "\n",
    "y_test = data_test.pop('Income').apply(lambda y: y == 'High')\n",
    "x_test = data_test"
   ]
  },
  {
   "cell_type": "code",
   "execution_count": null,
   "metadata": {},
   "outputs": [],
   "source": [
    "age = tf.feature_column.numeric_column('Age')\n",
    "\n",
    "age_bucket = tf.feature_column.bucketized_column(\n",
    "    age, boundaries=[30, 40, 50, 60, 70])\n",
    "\n",
    "education = tf.feature_column.categorical_column_with_vocabulary_list(\n",
    "    'Education', column_variants().get('Education'))\n",
    "\n",
    "country = tf.feature_column.categorical_column_with_hash_bucket(\n",
    "    'NativeCountry', 1000)\n",
    "\n",
    "age_bucket_education = tf.feature_column.crossed_column(\n",
    "    [age_bucket, education], hash_bucket_size=int(1e4))\n",
    "\n",
    "feature_columns = [\n",
    "    age,\n",
    "    age_bucket,\n",
    "    education,\n",
    "    country,\n",
    "    age_bucket_education,\n",
    "]"
   ]
  },
  {
   "cell_type": "code",
   "execution_count": null,
   "metadata": {
    "scrolled": false
   },
   "outputs": [],
   "source": [
    "estimator = tf.estimator.LinearClassifier(\n",
    "    feature_columns, model_dir='model/linear', n_classes=2)\n",
    "\n",
    "estimator.train(create_train_input(x_train, y_train), steps=1000);"
   ]
  },
  {
   "cell_type": "code",
   "execution_count": null,
   "metadata": {},
   "outputs": [],
   "source": [
    "estimator.evaluate(create_test_input(x_test, y_test))"
   ]
  },
  {
   "cell_type": "code",
   "execution_count": null,
   "metadata": {},
   "outputs": [],
   "source": [
    "marital_status = tf.feature_column.categorical_column_with_vocabulary_list(\n",
    "    'MaritalStatus', column_variants().get('MaritalStatus'))\n",
    "\n",
    "occupation = tf.feature_column.categorical_column_with_hash_bucket(\n",
    "    'Occupation', 100)\n",
    "     \n",
    "relationship = tf.feature_column.categorical_column_with_vocabulary_list(\n",
    "    'Relationship', column_variants().get('Relationship'))\n",
    "\n",
    "work_class = tf.feature_column.categorical_column_with_vocabulary_list(\n",
    "    'WorkClass', column_variants().get('WorkClass'))\n",
    "\n",
    "feature_columns = [\n",
    "    age,\n",
    "    tf.feature_column.indicator_column(education),\n",
    "    tf.feature_column.indicator_column(marital_status),\n",
    "    tf.feature_column.embedding_column(occupation, 10),\n",
    "    tf.feature_column.indicator_column(relationship),\n",
    "    tf.feature_column.indicator_column(work_class),\n",
    "]"
   ]
  },
  {
   "cell_type": "code",
   "execution_count": null,
   "metadata": {},
   "outputs": [],
   "source": [
    "estimator = tf.estimator.DNNClassifier(\n",
    "    hidden_units=[256, 128, 64], feature_columns=feature_columns, \n",
    "    n_classes=2, model_dir='model/deep')\n",
    "\n",
    "estimator.train(create_train_input(x_train, y_train), steps=2000);"
   ]
  },
  {
   "cell_type": "code",
   "execution_count": null,
   "metadata": {},
   "outputs": [],
   "source": [
    "estimator.evaluate(create_test_input(x_test, y_test))"
   ]
  }
 ],
 "metadata": {
  "kernelspec": {
   "display_name": "Python 3",
   "language": "python",
   "name": "python3"
  },
  "language_info": {
   "codemirror_mode": {
    "name": "ipython",
    "version": 3
   },
   "file_extension": ".py",
   "mimetype": "text/x-python",
   "name": "python",
   "nbconvert_exporter": "python",
   "pygments_lexer": "ipython3"
  }
 },
 "nbformat": 4,
 "nbformat_minor": 2
}
