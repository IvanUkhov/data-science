{
 "cells": [
  {
   "cell_type": "code",
   "execution_count": null,
   "metadata": {},
   "outputs": [],
   "source": [
    "from data import Matrix, Movie, Rating\n",
    "from pipeline import Builder"
   ]
  },
  {
   "cell_type": "code",
   "execution_count": null,
   "metadata": {},
   "outputs": [],
   "source": [
    "movies = Movie.load()\n",
    "ratings = Rating.load(nrows=10**6)"
   ]
  },
  {
   "cell_type": "code",
   "execution_count": null,
   "metadata": {},
   "outputs": [],
   "source": [
    "pipeline = Builder().encode('movieId') \\\n",
    "                    .encode('userId') \\\n",
    "                    .build()\n",
    "\n",
    "ratings.data = pipeline.fit_transform(ratings.data)\n",
    "train_ratings, test_ratings = ratings.split()"
   ]
  },
  {
   "cell_type": "code",
   "execution_count": null,
   "metadata": {},
   "outputs": [],
   "source": [
    "n_movies = len(pipeline.named_steps['encode_movieId'].encoder.classes_)\n",
    "n_users = len(pipeline.named_steps['encode_userId'].encoder.classes_)\n",
    "\n",
    "matrix = Matrix(train_ratings.data, shape=(n_movies, n_users))"
   ]
  }
 ],
 "metadata": {
  "kernelspec": {
   "display_name": "Python 3",
   "language": "python",
   "name": "python3"
  },
  "language_info": {
   "codemirror_mode": {
    "name": "ipython",
    "version": 3
   },
   "file_extension": ".py",
   "mimetype": "text/x-python",
   "name": "python",
   "nbconvert_exporter": "python",
   "pygments_lexer": "ipython3"
  }
 },
 "nbformat": 4,
 "nbformat_minor": 2
}
