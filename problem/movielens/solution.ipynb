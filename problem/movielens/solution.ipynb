{
 "cells": [
  {
   "cell_type": "code",
   "execution_count": null,
   "metadata": {},
   "outputs": [],
   "source": [
    "import numpy as np\n",
    "import pandas as pd\n",
    "\n",
    "from data import Movie, Rating\n",
    "from recommender import NearestNeighbor\n",
    "\n",
    "np.random.seed(42)"
   ]
  },
  {
   "cell_type": "code",
   "execution_count": null,
   "metadata": {},
   "outputs": [],
   "source": [
    "movie_database = Movie.load()\n",
    "rating_database = Rating.load(nrows=10**6)\n",
    "\n",
    "movies = rating_database.data.groupby('movieId')['userId'].agg('count').sort_values(ascending=False)\n",
    "users = rating_database.data.groupby('userId')['movieId'].agg('count').sort_values(ascending=False)"
   ]
  },
  {
   "cell_type": "markdown",
   "metadata": {},
   "source": [
    "# User-based Recommendation"
   ]
  },
  {
   "cell_type": "code",
   "execution_count": null,
   "metadata": {},
   "outputs": [],
   "source": [
    "user_model = NearestNeighbor(proxies=rating_database.data['userId'],\n",
    "                             targets=rating_database.data['movieId'],\n",
    "                             ratings=rating_database.data['rating'])\n",
    "\n",
    "user = np.random.choice(users[users > 10].index)"
   ]
  },
  {
   "cell_type": "markdown",
   "metadata": {},
   "source": [
    "## Already Watched"
   ]
  },
  {
   "cell_type": "code",
   "execution_count": null,
   "metadata": {},
   "outputs": [],
   "source": [
    "ratings = rating_database.find_by_user(user)\n",
    "movie_database.find(ratings.index).join(ratings).sort_values(by='title')"
   ]
  },
  {
   "cell_type": "markdown",
   "metadata": {},
   "source": [
    "## Should Watch"
   ]
  },
  {
   "cell_type": "code",
   "execution_count": null,
   "metadata": {},
   "outputs": [],
   "source": [
    "movies, ratings = user_model.recommend_targets(user)\n",
    "movies = movie_database.find(movies).join(\n",
    "    pd.DataFrame(data={'rating': ratings}, index=movies))\n",
    "\n",
    "movies.sort_values(by='title')"
   ]
  },
  {
   "cell_type": "markdown",
   "metadata": {},
   "source": [
    "# Item-based Recommendation"
   ]
  },
  {
   "cell_type": "code",
   "execution_count": null,
   "metadata": {},
   "outputs": [],
   "source": [
    "movie_model = NearestNeighbor(proxies=rating_database.data['movieId'],\n",
    "                              targets=rating_database.data['userId'],\n",
    "                              ratings=rating_database.data['rating'])\n",
    "\n",
    "movie = np.random.choice(movies[movies > 10].index)"
   ]
  },
  {
   "cell_type": "markdown",
   "metadata": {},
   "source": [
    "## Already Watched"
   ]
  },
  {
   "cell_type": "code",
   "execution_count": null,
   "metadata": {},
   "outputs": [],
   "source": [
    "movie_database.find([movie]).join(\n",
    "    rating_database.find_by_movie(movie)\n",
    "                   .aggregate(['mean', 'count']).T\n",
    "                   .rename({'rating': movie}, axis=0)\n",
    "                   .rename({'mean': 'rating', 'count': 'users'}, axis=1))"
   ]
  },
  {
   "cell_type": "markdown",
   "metadata": {},
   "source": [
    "## Should Watch"
   ]
  },
  {
   "cell_type": "code",
   "execution_count": null,
   "metadata": {},
   "outputs": [],
   "source": [
    "movies, similarities = movie_model.recommend_proxies(movie)\n",
    "movies = movie_database.find(movies).join(\n",
    "    pd.DataFrame(data={'similarity': similarities}, index=movies))\n",
    "\n",
    "movies.sort_values(by='title')"
   ]
  }
 ],
 "metadata": {
  "kernelspec": {
   "display_name": "Python 3",
   "language": "python",
   "name": "python3"
  },
  "language_info": {
   "codemirror_mode": {
    "name": "ipython",
    "version": 3
   },
   "file_extension": ".py",
   "mimetype": "text/x-python",
   "name": "python",
   "nbconvert_exporter": "python",
   "pygments_lexer": "ipython3"
  }
 },
 "nbformat": 4,
 "nbformat_minor": 2
}
