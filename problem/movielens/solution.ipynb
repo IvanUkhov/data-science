{
 "cells": [
  {
   "cell_type": "code",
   "execution_count": null,
   "metadata": {},
   "outputs": [],
   "source": [
    "import numpy as np\n",
    "\n",
    "from data import Movie as MovieData\n",
    "from data import Rating as RatingData\n",
    "from recommender import NearestNeighbor\n",
    "from recommender import Rating as RatingMatrix\n",
    "from recommender import Similarity as SimilarityMatrix\n",
    "from pipeline import Builder\n",
    "\n",
    "np.random.seed(42)"
   ]
  },
  {
   "cell_type": "code",
   "execution_count": null,
   "metadata": {},
   "outputs": [],
   "source": [
    "movie_data = MovieData.load()\n",
    "rating_data = RatingData.load(nrows=10**6)"
   ]
  },
  {
   "cell_type": "code",
   "execution_count": null,
   "metadata": {},
   "outputs": [],
   "source": [
    "pipeline = Builder().encode('movieId') \\\n",
    "                    .encode('userId') \\\n",
    "                    .build()\n",
    "\n",
    "data = pipeline.fit_transform(rating_data.data.copy())\n",
    "\n",
    "user_encoder = pipeline.named_steps['encode_userId'].encoder\n",
    "movie_encoder = pipeline.named_steps['encode_movieId'].encoder"
   ]
  },
  {
   "cell_type": "code",
   "execution_count": null,
   "metadata": {},
   "outputs": [],
   "source": [
    "rating_matrix = RatingMatrix(\n",
    "    data, proxy='userId', target='movieId',\n",
    "    shape=(len(user_encoder.classes_), len(movie_encoder.classes_)))\n",
    "\n",
    "similarity_matrix = SimilarityMatrix(rating_matrix.data)\n",
    "\n",
    "model = NearestNeighbor(rating_matrix.data, similarity_matrix.data,\n",
    "                        proxy_encoder=user_encoder, target_encoder=movie_encoder)"
   ]
  },
  {
   "cell_type": "code",
   "execution_count": null,
   "metadata": {},
   "outputs": [],
   "source": [
    "user_id = np.random.choice(user_encoder.classes_)\n",
    "movie_data.find(model.recommend(user_id)).sort_values(by='title')"
   ]
  },
  {
   "cell_type": "code",
   "execution_count": null,
   "metadata": {},
   "outputs": [],
   "source": [
    "ratings = rating_data.find(user_id)\n",
    "movie_data.find(ratings.index).join(ratings).sort_values(by='title')"
   ]
  }
 ],
 "metadata": {
  "kernelspec": {
   "display_name": "Python 3",
   "language": "python",
   "name": "python3"
  },
  "language_info": {
   "codemirror_mode": {
    "name": "ipython",
    "version": 3
   },
   "file_extension": ".py",
   "mimetype": "text/x-python",
   "name": "python",
   "nbconvert_exporter": "python",
   "pygments_lexer": "ipython3"
  }
 },
 "nbformat": 4,
 "nbformat_minor": 2
}
