{
 "cells": [
  {
   "cell_type": "code",
   "execution_count": null,
   "metadata": {},
   "outputs": [],
   "source": [
    "import numpy as np\n",
    "import pandas as pd\n",
    "\n",
    "from database import Movie\n",
    "from database import Rating\n",
    "from recommender import NearestNeighbor\n",
    "\n",
    "np.random.seed(42)\n",
    "pd.set_option('precision', 1)"
   ]
  },
  {
   "cell_type": "code",
   "execution_count": null,
   "metadata": {},
   "outputs": [],
   "source": [
    "movie_database = Movie.load()\n",
    "rating_database = Rating.load(nrows=10**6)\n",
    "\n",
    "users = rating_database.data.groupby('userId')['movieId'].agg('count')\n",
    "movies = rating_database.data.groupby('movieId')['userId'].agg('count')\n",
    "\n",
    "user = np.random.choice(users[users > 10].index)\n",
    "movie = np.random.choice(movies[movies > 10].index)\n",
    "\n",
    "print('User: {}'.format(user))\n",
    "print('Movie: {}'.format(movie))"
   ]
  },
  {
   "cell_type": "markdown",
   "metadata": {},
   "source": [
    "# User-based Filtering"
   ]
  },
  {
   "cell_type": "code",
   "execution_count": null,
   "metadata": {},
   "outputs": [],
   "source": [
    "user_model = NearestNeighbor()\n",
    "user_model.fit((rating_database.data['userId'],\n",
    "                rating_database.data['movieId'],\n",
    "                rating_database.data['rating']))"
   ]
  },
  {
   "cell_type": "code",
   "execution_count": null,
   "metadata": {},
   "outputs": [],
   "source": [
    "ratings = rating_database.find_by_user(user)\n",
    "movies = movie_database.find(ratings.index).join(ratings)\n",
    "estimates = [user_model.predict(user, movie) for movie in movies.index]\n",
    "movies.join(pd.DataFrame({'estimate': estimates}, index=movies.index))"
   ]
  },
  {
   "cell_type": "markdown",
   "metadata": {},
   "source": [
    "# Item-based Filtering"
   ]
  },
  {
   "cell_type": "code",
   "execution_count": null,
   "metadata": {},
   "outputs": [],
   "source": [
    "movie_model = NearestNeighbor()\n",
    "movie_model.fit((rating_database.data['movieId'],\n",
    "                 rating_database.data['userId'],\n",
    "                 rating_database.data['rating']))"
   ]
  },
  {
   "cell_type": "code",
   "execution_count": null,
   "metadata": {},
   "outputs": [],
   "source": [
    "movie_database.find([movie]).join(\n",
    "    rating_database.find_by_movie(movie)\n",
    "                   .aggregate(['mean', 'count']).T\n",
    "                   .rename({'rating': movie}, axis=0)\n",
    "                   .rename({'mean': 'rating', 'count': 'users'}, axis=1))"
   ]
  },
  {
   "cell_type": "code",
   "execution_count": null,
   "metadata": {},
   "outputs": [],
   "source": [
    "movies, similarities = movie_model.connect(movie)\n",
    "movies = movie_database.find(movies).join(\n",
    "    pd.DataFrame({'similarity': similarities}, index=movies))\n",
    "\n",
    "movies.sort_values(by='title')"
   ]
  }
 ],
 "metadata": {
  "kernelspec": {
   "display_name": "Python 3",
   "language": "python",
   "name": "python3"
  },
  "language_info": {
   "codemirror_mode": {
    "name": "ipython",
    "version": 3
   },
   "file_extension": ".py",
   "mimetype": "text/x-python",
   "name": "python",
   "nbconvert_exporter": "python",
   "pygments_lexer": "ipython3"
  }
 },
 "nbformat": 4,
 "nbformat_minor": 2
}
