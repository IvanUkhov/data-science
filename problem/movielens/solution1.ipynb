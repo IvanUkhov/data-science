{
 "cells": [
  {
   "cell_type": "code",
   "execution_count": null,
   "metadata": {},
   "outputs": [],
   "source": [
    "import numpy as np\n",
    "import pandas as pd\n",
    "\n",
    "from database import Movie\n",
    "from database import Rating\n",
    "from recommender import NearestNeighbor\n",
    "\n",
    "np.random.seed(42)\n",
    "pd.set_option('precision', 1)"
   ]
  },
  {
   "cell_type": "code",
   "execution_count": null,
   "metadata": {},
   "outputs": [],
   "source": [
    "movie_database = Movie.load()\n",
    "rating_database = Rating.load(nrows=10**6 // 2)\n",
    "train_database, _ = rating_database.split()\n",
    "\n",
    "users = rating_database.data.groupby('userId')['movieId'].agg('count')\n",
    "\n",
    "user = np.random.choice(users[users > 10].index)\n",
    "user_ratings = rating_database.find_by_user(user)\n",
    "user_movies = movie_database.find(user_ratings.index).join(user_ratings)"
   ]
  },
  {
   "cell_type": "markdown",
   "metadata": {},
   "source": [
    "# User-based Filtering"
   ]
  },
  {
   "cell_type": "code",
   "execution_count": null,
   "metadata": {},
   "outputs": [],
   "source": [
    "model = NearestNeighbor()\n",
    "model.fit((train_database.data['userId'],\n",
    "           train_database.data['movieId'],\n",
    "           train_database.data['rating']))\n",
    "\n",
    "estimates = [model.predict(user, movie) for movie in user_movies.index]\n",
    "user_movies.join(pd.DataFrame({'estimate': estimates}, index=user_movies.index))"
   ]
  },
  {
   "cell_type": "markdown",
   "metadata": {},
   "source": [
    "# Item-based Filtering"
   ]
  },
  {
   "cell_type": "code",
   "execution_count": null,
   "metadata": {},
   "outputs": [],
   "source": [
    "model = NearestNeighbor()\n",
    "model.fit((train_database.data['movieId'],\n",
    "           train_database.data['userId'],\n",
    "           train_database.data['rating']))\n",
    "\n",
    "estimates = [model.predict(movie, user) for movie in user_movies.index]\n",
    "user_movies.join(pd.DataFrame({'estimate': estimates}, index=user_movies.index))"
   ]
  }
 ],
 "metadata": {
  "kernelspec": {
   "display_name": "Python 3",
   "language": "python",
   "name": "python3"
  },
  "language_info": {
   "codemirror_mode": {
    "name": "ipython",
    "version": 3
   },
   "file_extension": ".py",
   "mimetype": "text/x-python",
   "name": "python",
   "nbconvert_exporter": "python",
   "pygments_lexer": "ipython3"
  }
 },
 "nbformat": 4,
 "nbformat_minor": 2
}
