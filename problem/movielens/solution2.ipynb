{
 "cells": [
  {
   "cell_type": "code",
   "execution_count": null,
   "metadata": {},
   "outputs": [],
   "source": [
    "import numpy as np\n",
    "import pandas as pd\n",
    "\n",
    "from database import Movie\n",
    "from database import Rating\n",
    "from surprise import Dataset\n",
    "from surprise import Reader\n",
    "from surprise import SVD\n",
    "from surprise import accuracy\n",
    "from surprise.model_selection import train_test_split\n",
    "\n",
    "np.random.seed(42)\n",
    "pd.set_option('precision', 1)"
   ]
  },
  {
   "cell_type": "code",
   "execution_count": null,
   "metadata": {},
   "outputs": [],
   "source": [
    "movie_database = Movie.load()\n",
    "rating_database = Rating.load(nrows=10**6)\n",
    "\n",
    "users = rating_database.data.groupby('userId')['movieId'].agg('count')"
   ]
  },
  {
   "cell_type": "code",
   "execution_count": null,
   "metadata": {},
   "outputs": [],
   "source": [
    "reader = Reader(rating_scale=(1, 5))\n",
    "rating_dataset = Dataset.load_from_df(rating_database.data, reader)\n",
    "data_train, data_test = train_test_split(rating_dataset, test_size=0.2)"
   ]
  },
  {
   "cell_type": "code",
   "execution_count": null,
   "metadata": {},
   "outputs": [],
   "source": [
    "model = SVD()\n",
    "model.fit(data_train)\n",
    "predictions = model.test(data_test)\n",
    "accuracy.rmse(predictions)"
   ]
  },
  {
   "cell_type": "code",
   "execution_count": null,
   "metadata": {},
   "outputs": [],
   "source": [
    "user = np.random.choice(users[users > 10].index)\n",
    "print('Chosen user: {}'.format(user))"
   ]
  },
  {
   "cell_type": "code",
   "execution_count": null,
   "metadata": {},
   "outputs": [],
   "source": [
    "ratings = rating_database.find_by_user(user)\n",
    "movies = movie_database.find(ratings.index).join(ratings)\n",
    "predictions = [model.predict(user, movie) for movie in movies.index]\n",
    "estimates = [prediction.est if not prediction.details['was_impossible'] else np.nan\n",
    "             for prediction in predictions]\n",
    "movies.join(pd.DataFrame({'estimate': estimates}, index=movies.index))"
   ]
  }
 ],
 "metadata": {
  "kernelspec": {
   "display_name": "Python 3",
   "language": "python",
   "name": "python3"
  },
  "language_info": {
   "codemirror_mode": {
    "name": "ipython",
    "version": 3
   },
   "file_extension": ".py",
   "mimetype": "text/x-python",
   "name": "python",
   "nbconvert_exporter": "python",
   "pygments_lexer": "ipython3"
  }
 },
 "nbformat": 4,
 "nbformat_minor": 2
}
