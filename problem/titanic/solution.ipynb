{
 "cells": [
  {
   "cell_type": "markdown",
   "metadata": {},
   "source": [
    "## References\n",
    "\n",
    "* [A journey through Titanic](https://www.kaggle.com/omarelgabry/a-journey-through-titanic) (Kaggle)"
   ]
  },
  {
   "cell_type": "code",
   "execution_count": null,
   "metadata": {},
   "outputs": [],
   "source": [
    "import math\n",
    "import matplotlib.pyplot as pp\n",
    "import numpy as np\n",
    "import pandas as pd\n",
    "import seaborn as sb\n",
    "\n",
    "np.random.seed(0)"
   ]
  },
  {
   "cell_type": "code",
   "execution_count": null,
   "metadata": {},
   "outputs": [],
   "source": [
    "def load_dataset(path):\n",
    "    return pd.read_csv(path)\n",
    "\n",
    "data = load_dataset('data/development.csv')\n",
    "data_score = load_dataset('data/submission.csv')"
   ]
  },
  {
   "cell_type": "code",
   "execution_count": null,
   "metadata": {},
   "outputs": [],
   "source": [
    "data.info()\n",
    "data.head()"
   ]
  },
  {
   "cell_type": "code",
   "execution_count": null,
   "metadata": {},
   "outputs": [],
   "source": [
    "data_score.info()\n",
    "data_score.head()"
   ]
  },
  {
   "cell_type": "code",
   "execution_count": null,
   "metadata": {},
   "outputs": [],
   "source": [
    "def collect_statistics(data):\n",
    "    count = len(data.columns)\n",
    "    missing_counts = np.zeros(count, dtype=np.uint32)\n",
    "    unique_counts = np.zeros(count, dtype=np.uint32)\n",
    "    zero_counts = np.zeros(count, dtype=np.uint32)\n",
    "    for (i, column) in enumerate(data.columns):\n",
    "        missing_counts[i] = data[column].isnull().sum()\n",
    "        unique_counts[i] = data[column].unique().size\n",
    "        zero_counts[i] = (data[column] == 0).astype(int).sum()\n",
    "    return pd.DataFrame({\n",
    "        'Column': data.columns,\n",
    "        'Unique': unique_counts,\n",
    "        'Missing': missing_counts,\n",
    "        'Zero': zero_counts,\n",
    "    })"
   ]
  },
  {
   "cell_type": "code",
   "execution_count": null,
   "metadata": {},
   "outputs": [],
   "source": [
    "collect_statistics(data)"
   ]
  },
  {
   "cell_type": "code",
   "execution_count": null,
   "metadata": {},
   "outputs": [],
   "source": [
    "collect_statistics(data_score)"
   ]
  },
  {
   "cell_type": "code",
   "execution_count": null,
   "metadata": {},
   "outputs": [],
   "source": [
    "def round(value, precision=10000):\n",
    "    return math.ceil(value * precision) / precision\n",
    "\n",
    "def inspect_correlation(data, target, limit=10):\n",
    "    for column in data.columns:\n",
    "        if column == target: continue\n",
    "        correlation = None\n",
    "        if pd.api.types.is_numeric_dtype(data[column]):\n",
    "            correlation = round(data[column].corr(data[target]))\n",
    "        elif data[column].unique().size < limit:\n",
    "            dummies = pd.get_dummies(data[column])\n",
    "            correlation = [dummies[column].corr(data[target]) for column in dummies.columns]\n",
    "            correlation = [round(value) for value in correlation]\n",
    "        print('{}: {} correlation'.format(column, correlation))\n",
    "\n",
    "inspect_correlation(data, 'Survived')"
   ]
  },
  {
   "cell_type": "code",
   "execution_count": null,
   "metadata": {},
   "outputs": [],
   "source": [
    "def compose_person(data):\n",
    "    age, sex = data\n",
    "    return 'Child' if age < 16 else sex.capitalize()\n",
    "\n",
    "def compose_class(data):\n",
    "    data = data[0]\n",
    "    if data == 1: return 'Upper'\n",
    "    elif data == 2: return 'Middle'\n",
    "    elif data == 3: return 'Lower'\n",
    "    raise 'Unknown class'\n",
    "\n",
    "def fix_missing(data, column):\n",
    "    mean = data[column].mean()\n",
    "    deviation = data[column].std()\n",
    "    count = data[column].isnull().sum()\n",
    "    rand = np.random.randint(mean - deviation, mean + deviation, size=count)\n",
    "    data.loc[np.isnan(data[column]), column] = rand\n",
    "    return count\n",
    "\n",
    "def prepare(data, columns=['PassengerId', 'Survived', 'Age', 'Person', 'Class']):\n",
    "    fix_missing(data, 'Age')\n",
    "    data['Age'] = data['Age'].astype(int)\n",
    "    data['Person'] = data[['Age', 'Sex']].apply(compose_person, axis=1)\n",
    "    data['Class'] = data[['Pclass']].apply(compose_class, axis=1)\n",
    "    data.drop(list(set(data.columns.values) - set(columns)), axis=1, inplace=True)\n",
    "\n",
    "prepare(data)\n",
    "prepare(data_score)\n",
    "\n",
    "data.head()"
   ]
  },
  {
   "cell_type": "code",
   "execution_count": null,
   "metadata": {},
   "outputs": [],
   "source": [
    "def plot_histogram(data, column):\n",
    "    figure = pp.figure(figsize=(18, 4))\n",
    "    data[column].hist(bins=70)\n",
    "    pp.xlabel(column)\n",
    "    pp.ylabel('Number of passengers')\n",
    "\n",
    "def plot_survived(data, column, order):\n",
    "    figure, axes = pp.subplots(1, 2, figsize=(18, 4))\n",
    "    sb.countplot(x=column, data=data, ax=axes[0], order=order)\n",
    "    data = data[[column, 'Survived']].groupby([column], as_index=False).mean()\n",
    "    sb.barplot(x=column, y='Survived', data=data, ax=axes[1], order=order)\n",
    "    axes[0].set_ylabel('Number of passengers')\n",
    "    axes[1].set_ylabel('Fraction of survived')\n",
    "\n",
    "plot_histogram(data, 'Age')\n",
    "plot_survived(data, 'Person', ['Male', 'Female', 'Child'])\n",
    "plot_survived(data, 'Class', ['Upper', 'Middle', 'Lower'])"
   ]
  },
  {
   "cell_type": "code",
   "execution_count": null,
   "metadata": {},
   "outputs": [],
   "source": [
    "from sklearn.ensemble import RandomForestClassifier"
   ]
  },
  {
   "cell_type": "code",
   "execution_count": null,
   "metadata": {},
   "outputs": [],
   "source": [
    "def make_dummies(data, mapping):\n",
    "    for column in mapping:\n",
    "        dummies = pd.get_dummies(data[column])\n",
    "        dummies.columns = mapping[column]\n",
    "        data = data.join(dummies)\n",
    "    data.drop(mapping.keys(), inplace=True, axis=1)\n",
    "    return data\n",
    "\n",
    "mapping = {\n",
    "    'Person': ['Male', 'Female', 'Child'],\n",
    "    'Class': ['Upper', 'Middle', 'Lower'],\n",
    "}\n",
    "\n",
    "data = make_dummies(data, mapping)\n",
    "data_score = make_dummies(data_score, mapping)\n",
    "\n",
    "data.head()"
   ]
  },
  {
   "cell_type": "code",
   "execution_count": null,
   "metadata": {},
   "outputs": [],
   "source": [
    "x = data.drop(['PassengerId', 'Survived'], axis=1)\n",
    "y = data['Survived']\n",
    "\n",
    "x_train, y_train = x, y\n",
    "\n",
    "x_score = data_score.drop('PassengerId', axis=1)"
   ]
  },
  {
   "cell_type": "code",
   "execution_count": null,
   "metadata": {},
   "outputs": [],
   "source": [
    "model = RandomForestClassifier(n_estimators=100)\n",
    "model.fit(x_train, y_train)\n",
    "\n",
    "print('Score: {:.4}'.format(model.score(x_train, y_train)))"
   ]
  },
  {
   "cell_type": "code",
   "execution_count": null,
   "metadata": {},
   "outputs": [],
   "source": [
    "data_score = pd.DataFrame({\n",
    "    'PassengerId': data_score['PassengerId'],\n",
    "    'Survived': model.predict(x_score),\n",
    "})\n",
    "data_score.to_csv('solution.csv', index=False)"
   ]
  }
 ],
 "metadata": {
  "kernelspec": {
   "display_name": "Python 3",
   "language": "python",
   "name": "python3"
  }
 },
 "nbformat": 4,
 "nbformat_minor": 2
}
