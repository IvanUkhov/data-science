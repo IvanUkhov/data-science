{
 "cells": [
  {
   "cell_type": "code",
   "execution_count": null,
   "metadata": {},
   "outputs": [],
   "source": [
    "import numpy as np\n",
    "import pandas as pd\n",
    "import tensorflow as tf"
   ]
  },
  {
   "cell_type": "code",
   "execution_count": null,
   "metadata": {},
   "outputs": [],
   "source": [
    "variable_name = 'x'\n",
    "target_name = 'y'\n",
    "\n",
    "num_variables = 5000\n",
    "num_features = 100\n",
    "num_samples = 50\n",
    "\n",
    "batch_size = 10\n",
    "num_epochs = 100"
   ]
  },
  {
   "cell_type": "markdown",
   "metadata": {},
   "source": [
    "# Data"
   ]
  },
  {
   "cell_type": "code",
   "execution_count": null,
   "metadata": {},
   "outputs": [],
   "source": [
    "random = np.random.RandomState(42)\n",
    "data = random.uniform(size=(num_samples, num_variables + 1))\n",
    "column_names = ['{}_{}'.format(variable_name, i) for i in range(num_variables)] + [target_name]\n",
    "data = pd.DataFrame(data, columns=column_names)\n",
    "data[target_name] = data[target_name] < 0.5"
   ]
  },
  {
   "cell_type": "markdown",
   "metadata": {},
   "source": [
    "# Feature Selection"
   ]
  },
  {
   "cell_type": "code",
   "execution_count": null,
   "metadata": {},
   "outputs": [],
   "source": [
    "correlation = data.filter(like=variable_name).corrwith(data[target_name]).abs()\n",
    "correlation.sort_values(ascending=False, inplace=True)\n",
    "feature_names = sorted(correlation.index[:num_features])\n",
    "data = data[feature_names + [target_name]]"
   ]
  },
  {
   "cell_type": "markdown",
   "metadata": {},
   "source": [
    "# Modeling"
   ]
  },
  {
   "cell_type": "code",
   "execution_count": null,
   "metadata": {},
   "outputs": [],
   "source": [
    "def create_input_fn(data):\n",
    "\n",
    "    def _input_fn():\n",
    "        feature_tensor, target_tensor = (\n",
    "            tf.data.Dataset\n",
    "                .from_tensor_slices((data[feature_names], data[target_name]))\n",
    "                .batch(batch_size)\n",
    "                .repeat(num_epochs)\n",
    "                .make_one_shot_iterator()\n",
    "                .get_next()\n",
    "        )\n",
    "        feature_dictionary = {\n",
    "            feature_name: feature_tensor[:, i]\n",
    "            for i, feature_name in enumerate(feature_names)\n",
    "        }\n",
    "        return feature_dictionary, target_tensor\n",
    "\n",
    "    return _input_fn\n",
    "\n",
    "feature_columns = [\n",
    "    tf.feature_column.numeric_column(column)\n",
    "    for column in data.columns[:-1]\n",
    "]\n",
    "\n",
    "model = tf.estimator.LinearClassifier(\n",
    "    feature_columns=feature_columns,\n",
    "    model_dir='output',\n",
    ")"
   ]
  },
  {
   "cell_type": "markdown",
   "metadata": {},
   "source": [
    "# Training"
   ]
  },
  {
   "cell_type": "code",
   "execution_count": null,
   "metadata": {},
   "outputs": [],
   "source": [
    "model.train(input_fn=create_input_fn(data))"
   ]
  }
 ],
 "metadata": {
  "kernelspec": {
   "display_name": "Python 3",
   "language": "python",
   "name": "python3"
  }
 },
 "nbformat": 4,
 "nbformat_minor": 2
}
