{
 "cells": [
  {
   "cell_type": "markdown",
   "metadata": {},
   "source": [
    "## References\n",
    "\n",
    "* [Iris Data Set](https://archive.ics.uci.edu/ml/datasets/Iris) (UCI)\n",
    "\n",
    "* [Visualizing a Decision Tree](https://www.youtube.com/watch?v=tNa99PG8hR8) (Josh Gordon, YouTube)"
   ]
  },
  {
   "cell_type": "code",
   "execution_count": null,
   "metadata": {},
   "outputs": [],
   "source": [
    "import matplotlib.pyplot as pp\n",
    "import numpy as np\n",
    "import seaborn as sb\n",
    "\n",
    "from graphviz import Source\n",
    "from problem import load_split_train_test\n",
    "from problem import split_feature_target\n",
    "from sklearn.tree import DecisionTreeClassifier\n",
    "from sklearn.tree import export_graphviz\n",
    "from sklearn.metrics import accuracy_score"
   ]
  },
  {
   "cell_type": "code",
   "execution_count": null,
   "metadata": {},
   "outputs": [],
   "source": [
    "np.random.seed(42)\n",
    "%config InlineBackend.figure_format = 'svg'"
   ]
  },
  {
   "cell_type": "code",
   "execution_count": null,
   "metadata": {},
   "outputs": [],
   "source": [
    "data_train, data_test = load_split_train_test()"
   ]
  },
  {
   "cell_type": "code",
   "execution_count": null,
   "metadata": {},
   "outputs": [],
   "source": [
    " def plot(correlation):\n",
    "    mask = np.zeros_like(correlation, dtype=np.bool)\n",
    "    mask[np.triu_indices_from(mask)] = True\n",
    "    sb.heatmap(correlation, vmin=-1, vmax=1, center=0, mask=mask, cmap='coolwarm',\n",
    "               square=True, linewidths=1, cbar=False)\n",
    "\n",
    "pp.figure(figsize=(12, 2))\n",
    "class_names = data_train['Species'].unique()\n",
    "for i, species in enumerate(class_names):\n",
    "    copy = data_train.copy()\n",
    "    copy['Species'] = copy['Species'].map(lambda name: name == species).astype('bool')\n",
    "    copy.rename(columns={'Species': species}, inplace=True)\n",
    "    correlation = copy.corr()\n",
    "    pp.subplot(1, len(class_names), i + 1)\n",
    "    plot(correlation)"
   ]
  },
  {
   "cell_type": "code",
   "execution_count": null,
   "metadata": {},
   "outputs": [],
   "source": [
    "x_train, y_train = split_feature_target(data_train)\n",
    "\n",
    "model = DecisionTreeClassifier(max_depth=3)\n",
    "model.fit(x_train, y_train)\n",
    "\n",
    "print('Score: {:.4}'.format(model.score(x_train, y_train)))"
   ]
  },
  {
   "cell_type": "code",
   "execution_count": null,
   "metadata": {},
   "outputs": [],
   "source": [
    "x_test, y_test = split_feature_target(data_test)\n",
    "y_pred = model.predict(x_test)\n",
    "\n",
    "print('Accuracy: {:.4}'.format(accuracy_score(y_test, y_pred)))"
   ]
  },
  {
   "cell_type": "code",
   "execution_count": null,
   "metadata": {},
   "outputs": [],
   "source": [
    "Source(export_graphviz(model,\n",
    "                       out_file=None,\n",
    "                       feature_names=x_train.columns,\n",
    "                       class_names=y_train.cat.categories))"
   ]
  }
 ],
 "metadata": {
  "kernelspec": {
   "display_name": "Python 3",
   "language": "python",
   "name": "python3"
  }
 },
 "nbformat": 4,
 "nbformat_minor": 2
}
