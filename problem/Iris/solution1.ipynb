{
 "cells": [
  {
   "cell_type": "code",
   "execution_count": 1,
   "metadata": {},
   "outputs": [],
   "source": [
    "import numpy as np\n",
    "import tensorflow as tf\n",
    "\n",
    "from IPython.core.interactiveshell import InteractiveShell\n",
    "from sklearn.model_selection import train_test_split as split\n",
    "from tensorflow.contrib.layers import real_valued_column\n",
    "from tensorflow.contrib.learn import DNNClassifier as Model\n",
    "\n",
    "load = tf.contrib.learn.datasets.load_dataset\n",
    "\n",
    "InteractiveShell.ast_node_interactivity = 'none'\n",
    "np.random.seed(0)\n",
    "tf.logging.set_verbosity(tf.logging.ERROR)"
   ]
  },
  {
   "cell_type": "code",
   "execution_count": 2,
   "metadata": {},
   "outputs": [
    {
     "name": "stdout",
     "output_type": "stream",
     "text": [
      "Classes: 3\n",
      "Features: 4\n",
      "Training: 105\n",
      "Testing: 45\n"
     ]
    }
   ],
   "source": [
    "problem = load('iris')\n",
    "\n",
    "n_classes = np.unique(problem.target).size\n",
    "n_features = problem.data.shape[1]\n",
    "\n",
    "X_train, X_test, y_train, y_test = split(problem.data, problem.target, test_size=0.3)\n",
    "\n",
    "print('Classes: {}'.format(n_classes))\n",
    "print('Features: {}'.format(n_features))\n",
    "print('Training: {}'.format(X_train.shape[0]))\n",
    "print('Testing: {}'.format(X_test.shape[0]))"
   ]
  },
  {
   "cell_type": "code",
   "execution_count": 3,
   "metadata": {},
   "outputs": [],
   "source": [
    "feature_columns = [tf.feature_column.numeric_column('', shape=n_features)]\n",
    "\n",
    "model = Model(\n",
    "    hidden_units=[10, 20, 10],\n",
    "    feature_columns=feature_columns,\n",
    "    n_classes=n_classes,\n",
    "    model_dir='model',\n",
    ")"
   ]
  },
  {
   "cell_type": "code",
   "execution_count": 4,
   "metadata": {},
   "outputs": [],
   "source": [
    "def get_train_inputs():\n",
    "    x = tf.constant(X_train)\n",
    "    y = tf.constant(y_train)\n",
    "    return x, y\n",
    "\n",
    "model.fit(input_fn=get_train_inputs, steps=200)"
   ]
  },
  {
   "cell_type": "code",
   "execution_count": 5,
   "metadata": {},
   "outputs": [
    {
     "name": "stdout",
     "output_type": "stream",
     "text": [
      "Accuracy: 0.9778\n"
     ]
    }
   ],
   "source": [
    "def get_test_inputs():\n",
    "    x = tf.constant(X_test)\n",
    "    y = tf.constant(y_test)\n",
    "    return x, y\n",
    "\n",
    "accuracy = model.evaluate(input_fn=get_test_inputs, steps=1)['accuracy']\n",
    "\n",
    "print('Accuracy: {:.4}'.format(accuracy))"
   ]
  },
  {
   "cell_type": "code",
   "execution_count": null,
   "metadata": {},
   "outputs": [],
   "source": []
  }
 ],
 "metadata": {
  "kernelspec": {
   "display_name": "Python 3",
   "language": "python",
   "name": "python3"
  },
  "language_info": {
   "codemirror_mode": {
    "name": "ipython",
    "version": 3
   },
   "file_extension": ".py",
   "mimetype": "text/x-python",
   "name": "python",
   "nbconvert_exporter": "python",
   "pygments_lexer": "ipython3",
   "version": "3.5.2"
  }
 },
 "nbformat": 4,
 "nbformat_minor": 2
}
