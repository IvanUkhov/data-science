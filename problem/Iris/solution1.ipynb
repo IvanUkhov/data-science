{
 "cells": [
  {
   "cell_type": "markdown",
   "metadata": {},
   "source": [
    "## References\n",
    "\n",
    "* [Iris Data Set](https://archive.ics.uci.edu/ml/datasets/Iris) (UCI)\n",
    "\n",
    "* [Visualizing a Decision Tree](https://www.youtube.com/watch?v=tNa99PG8hR8) (Josh Gordon, YouTube)"
   ]
  },
  {
   "cell_type": "code",
   "execution_count": 1,
   "metadata": {},
   "outputs": [],
   "source": [
    "import matplotlib.pyplot as pp\n",
    "import numpy as np\n",
    "\n",
    "from sklearn.datasets import load_iris as load\n",
    "from sklearn.model_selection import train_test_split as split\n",
    "from sklearn.tree import DecisionTreeClassifier as Model\n",
    "from sklearn.metrics import accuracy_score as metric\n",
    "\n",
    "np.random.seed(0)\n",
    "%matplotlib inline"
   ]
  },
  {
   "cell_type": "code",
   "execution_count": 2,
   "metadata": {},
   "outputs": [
    {
     "name": "stdout",
     "output_type": "stream",
     "text": [
      "Train: 105\n",
      "Test: 45\n"
     ]
    }
   ],
   "source": [
    "problem = load()\n",
    "X_train, X_test, y_train, y_test = split(problem.data, problem.target, test_size=0.3)\n",
    "print('Train: {}'.format(X_train.shape[0]))\n",
    "print('Test: {}'.format(X_test.shape[0]))"
   ]
  },
  {
   "cell_type": "code",
   "execution_count": 3,
   "metadata": {},
   "outputs": [
    {
     "name": "stdout",
     "output_type": "stream",
     "text": [
      "Sepal length (cm): 0.7896\n",
      "Sepal width (cm): -0.3574\n",
      "Petal length (cm): 0.954\n",
      "Petal width (cm): 0.9601\n"
     ]
    },
    {
     "data": {
      "image/png": "[encoded data removed]",
      "text/plain": [
       "<matplotlib.figure.Figure at 0x7f7c92c87860>"
      ]
     },
     "metadata": {},
     "output_type": "display_data"
    }
   ],
   "source": [
    "C = np.corrcoef(np.concatenate((y_train.reshape(-1, 1), X_train), axis=1), rowvar=False)\n",
    "pp.imshow(C)\n",
    "pp.colorbar()\n",
    "for (i, value) in enumerate(C[0, 1:].tolist()):\n",
    "    print('{}: {:.4}'.format(problem.feature_names[i].capitalize(), value))"
   ]
  },
  {
   "cell_type": "code",
   "execution_count": 4,
   "metadata": {},
   "outputs": [
    {
     "name": "stdout",
     "output_type": "stream",
     "text": [
      "Score: 1.0\n"
     ]
    }
   ],
   "source": [
    "model = Model()\n",
    "model.fit(X_train, y_train)\n",
    "\n",
    "print('Score: {:.4}'.format(model.score(X_train, y_train)))"
   ]
  },
  {
   "cell_type": "code",
   "execution_count": 5,
   "metadata": {},
   "outputs": [
    {
     "name": "stdout",
     "output_type": "stream",
     "text": [
      "Accuracy: 0.9778\n"
     ]
    }
   ],
   "source": [
    "y_pred = model.predict(X_test)\n",
    "\n",
    "print('Accuracy: {:.4}'.format(metric(y_test, y_pred)))"
   ]
  },
  {
   "cell_type": "code",
   "execution_count": null,
   "metadata": {},
   "outputs": [],
   "source": []
  }
 ],
 "metadata": {
  "kernelspec": {
   "display_name": "Python 3",
   "language": "python",
   "name": "python3"
  },
  "language_info": {
   "codemirror_mode": {
    "name": "ipython",
    "version": 3
   },
   "file_extension": ".py",
   "mimetype": "text/x-python",
   "name": "python",
   "nbconvert_exporter": "python",
   "pygments_lexer": "ipython3",
   "version": "3.5.2"
  }
 },
 "nbformat": 4,
 "nbformat_minor": 2
}
