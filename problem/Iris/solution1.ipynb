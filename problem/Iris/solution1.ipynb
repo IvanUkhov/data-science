{
 "cells": [
  {
   "cell_type": "markdown",
   "metadata": {},
   "source": [
    "## References\n",
    "\n",
    "* [Iris Data Set](https://archive.ics.uci.edu/ml/datasets/Iris) (UCI)\n",
    "\n",
    "* [Visualizing a Decision Tree](https://www.youtube.com/watch?v=tNa99PG8hR8) (Josh Gordon, YouTube)"
   ]
  },
  {
   "cell_type": "code",
   "execution_count": null,
   "metadata": {},
   "outputs": [],
   "source": [
    "import matplotlib.pyplot as pp\n",
    "import numpy as np\n",
    "import seaborn as sb\n",
    "\n",
    "from problem import load\n",
    "from sklearn.model_selection import train_test_split as split\n",
    "from sklearn.tree import DecisionTreeClassifier as Model\n",
    "from sklearn.metrics import accuracy_score as metric\n",
    "\n",
    "np.random.seed(42)\n",
    "%config InlineBackend.figure_format = 'svg'"
   ]
  },
  {
   "cell_type": "code",
   "execution_count": null,
   "metadata": {},
   "outputs": [],
   "source": [
    "data_train, data_test = split(load(), test_size=0.3)"
   ]
  },
  {
   "cell_type": "code",
   "execution_count": null,
   "metadata": {},
   "outputs": [],
   "source": [
    " def plot(correlation):\n",
    "    mask = np.zeros_like(correlation, dtype=np.bool)\n",
    "    mask[np.triu_indices_from(mask)] = True\n",
    "    sb.heatmap(correlation, vmin=-1, vmax=1, center=0, mask=mask, cmap='coolwarm',\n",
    "               square=True, linewidths=1, cbar=False)\n",
    "\n",
    "pp.figure(figsize=(12, 2))\n",
    "class_names = data_train['Species'].unique()\n",
    "for i, species in enumerate(class_names):\n",
    "    copy = data_train.copy()\n",
    "    copy['Species'] = copy['Species'].map(lambda name: name == species).astype('bool')\n",
    "    copy.rename(columns={'Species': species}, inplace=True)\n",
    "    correlation = copy.corr()\n",
    "    pp.subplot(1, len(class_names), i + 1)\n",
    "    plot(correlation)"
   ]
  },
  {
   "cell_type": "code",
   "execution_count": null,
   "metadata": {},
   "outputs": [],
   "source": [
    "y_train = data_train.pop('Species')\n",
    "x_train = data_train\n",
    "\n",
    "model = Model()\n",
    "model.fit(x_train, y_train)\n",
    "\n",
    "print('Score: {:.4}'.format(model.score(x_train, y_train)))"
   ]
  },
  {
   "cell_type": "code",
   "execution_count": null,
   "metadata": {},
   "outputs": [],
   "source": [
    "y_test = data_test.pop('Species')\n",
    "x_test = data_test\n",
    "y_pred = model.predict(x_test)\n",
    "\n",
    "print('Accuracy: {:.4}'.format(metric(y_test, y_pred)))"
   ]
  }
 ],
 "metadata": {
  "kernelspec": {
   "display_name": "Python 3",
   "language": "python",
   "name": "python3"
  },
  "language_info": {
   "codemirror_mode": {
    "name": "ipython",
    "version": 3
   },
   "file_extension": ".py",
   "mimetype": "text/x-python",
   "name": "python",
   "nbconvert_exporter": "python",
   "pygments_lexer": "ipython3"
  }
 },
 "nbformat": 4,
 "nbformat_minor": 2
}
