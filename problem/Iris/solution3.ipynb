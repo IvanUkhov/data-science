{
 "cells": [
  {
   "cell_type": "markdown",
   "metadata": {},
   "source": [
    "## References\n",
    "\n",
    "* [Iris Data Set](https://archive.ics.uci.edu/ml/datasets/Iris) (UCI)"
   ]
  },
  {
   "cell_type": "code",
   "execution_count": null,
   "metadata": {},
   "outputs": [],
   "source": [
    "import numpy as np\n",
    "import pandas as pd\n",
    "\n",
    "from problem import load_split_train_test\n",
    "from problem import split_feature_target\n",
    "from sklearn.metrics import confusion_matrix\n",
    "from sklearn.metrics import f1_score\n",
    "from sklearn.model_selection import GridSearchCV\n",
    "from sklearn.pipeline import Pipeline\n",
    "from sklearn.preprocessing import StandardScaler\n",
    "from sklearn.svm import LinearSVC"
   ]
  },
  {
   "cell_type": "code",
   "execution_count": null,
   "metadata": {},
   "outputs": [],
   "source": [
    "np.random.seed(42)"
   ]
  },
  {
   "cell_type": "code",
   "execution_count": null,
   "metadata": {},
   "outputs": [],
   "source": [
    "data_train, data_test = load_split_train_test()\n",
    "categories = data_train['Species'].cat.categories\n",
    "\n",
    "x_train, y_train = split_feature_target(data_train)\n",
    "x_test, y_test = split_feature_target(data_test)"
   ]
  },
  {
   "cell_type": "code",
   "execution_count": null,
   "metadata": {},
   "outputs": [],
   "source": [
    "def score(model, x, y):\n",
    "    return f1_score(y, model.predict(x), average='macro')\n",
    "\n",
    "pipeline = Pipeline([\n",
    "    ('scale', StandardScaler()),\n",
    "    ('model', LinearSVC()),\n",
    "])\n",
    "\n",
    "grid = [{\n",
    "    'model__loss': ['hinge', 'squared_hinge'],\n",
    "    'model__C': np.concatenate((np.arange(0.1, 1.1, 0.1), np.arange(10, 100, 10))),\n",
    "}]\n",
    "\n",
    "search = GridSearchCV(pipeline, grid, scoring=score)\n",
    "search.fit(x_train, y_train)\n",
    "print(search.best_params_)\n",
    "\n",
    "y_pred = search.best_estimator_.predict(x_test)"
   ]
  },
  {
   "cell_type": "code",
   "execution_count": null,
   "metadata": {},
   "outputs": [],
   "source": [
    "print('F1 score: {:.2f}'.format(f1_score(y_test, y_pred, average='macro')))\n",
    "\n",
    "matrix = confusion_matrix(y_test, y_pred)\n",
    "matrix = pd.DataFrame(matrix, index=categories, columns=categories)\n",
    "matrix"
   ]
  }
 ],
 "metadata": {
  "kernelspec": {
   "display_name": "Python 3",
   "language": "python",
   "name": "python3"
  },
  "language_info": {
   "codemirror_mode": {
    "name": "ipython",
    "version": 3
   },
   "file_extension": ".py",
   "mimetype": "text/x-python",
   "name": "python",
   "nbconvert_exporter": "python",
   "pygments_lexer": "ipython3"
  }
 },
 "nbformat": 4,
 "nbformat_minor": 2
}
