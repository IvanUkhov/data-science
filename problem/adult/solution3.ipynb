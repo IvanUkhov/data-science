{
 "cells": [
  {
   "cell_type": "markdown",
   "metadata": {},
   "source": [
    "## References\n",
    "\n",
    "* [Adult Data Set](https://archive.ics.uci.edu/ml/datasets/Adult) (UCI)"
   ]
  },
  {
   "cell_type": "code",
   "execution_count": null,
   "metadata": {},
   "outputs": [],
   "source": [
    "import matplotlib.pyplot as pp\n",
    "import numpy as np\n",
    "import pandas as pd\n",
    "import seaborn as sb\n",
    "import tensorflow as tf\n",
    "\n",
    "from common import balance, column_variants, drop_missing, load_dataset\n",
    "from common import plot_confusion, print_confusion\n",
    "from common import plot_precision_recall, plot_roc\n",
    "\n",
    "np.random.seed(0)\n",
    "tf.set_random_seed(0)\n",
    "tf.logging.set_verbosity(tf.logging.ERROR)"
   ]
  },
  {
   "cell_type": "code",
   "execution_count": null,
   "metadata": {},
   "outputs": [],
   "source": [
    "class Experiment:\n",
    "    batch_size = 32\n",
    "    steps = 2000\n",
    "    labels = column_variants()['Income']\n",
    "    negative_index = labels.index('Low')\n",
    "    positive_index = labels.index('High')\n",
    "\n",
    "    def __init__(self, name, data_train, data_test):\n",
    "        self.name = name\n",
    "        self.y_train = data_train.pop('Income')\n",
    "        self.x_train = data_train\n",
    "        self.y_test = data_test.pop('Income')\n",
    "        self.x_test = data_test\n",
    "\n",
    "    def run(self, model):\n",
    "        model.train(self.create_train_input(), steps=self.steps)\n",
    "        predictions = list(model.predict(self.create_test_input()))\n",
    "        y_pred = pd.Series([prediction['classes'][0] for prediction in predictions])\n",
    "        y_score = [prediction['probabilities'][self.positive_index] for prediction in predictions]\n",
    "        return y_pred, y_score\n",
    "\n",
    "    def assess(self, y_pred, y_score):\n",
    "        y_test = self.y_test.map({'Low': 0, 'High': 1})\n",
    "        y_pred = y_pred.map({b'Low': 0, b'High': 1})\n",
    "        confusion = tf.confusion_matrix(y_test, y_pred)\n",
    "        confusion = tf.Session().run(confusion)\n",
    "        confusion = pd.DataFrame(confusion, index=self.labels,\n",
    "                                 columns=self.labels)\n",
    "        _, axes = pp.subplots(1, 3, figsize=(15, 4))\n",
    "        pp.suptitle(self.name)\n",
    "        pp.sca(axes[0])\n",
    "        plot_confusion(confusion)\n",
    "        pp.sca(axes[1])\n",
    "        plot_precision_recall(y_test, y_score)\n",
    "        pp.sca(axes[2])\n",
    "        plot_roc(y_test, y_score)\n",
    "        print('{}:'.format(self.name))\n",
    "        print_confusion(confusion)\n",
    "\n",
    "    def create_train_input(self): \n",
    "        return tf.estimator.inputs.pandas_input_fn(\n",
    "            x=self.x_train, y=self.y_train,\n",
    "            batch_size=self.batch_size,\n",
    "            num_epochs=None, shuffle=True)\n",
    "\n",
    "    def create_test_input(self):\n",
    "        return tf.estimator.inputs.pandas_input_fn(\n",
    "            x=self.x_test, num_epochs=1, shuffle=False)"
   ]
  },
  {
   "cell_type": "code",
   "execution_count": null,
   "metadata": {},
   "outputs": [],
   "source": [
    "data_train = load_dataset('data/train.csv')\n",
    "data_test = load_dataset('data/test.csv', skiprows=1)\n",
    "\n",
    "drop_missing(data_train)\n",
    "drop_missing(data_test)\n",
    "\n",
    "data_train.info()\n",
    "data_train.head()"
   ]
  },
  {
   "cell_type": "code",
   "execution_count": null,
   "metadata": {},
   "outputs": [],
   "source": [
    "_, axes = pp.subplots(1, 2, figsize=(10, 4))\n",
    "sb.countplot(data_train['Income'], ax=axes[0])\n",
    "sb.countplot(data_test['Income'], ax=axes[1])"
   ]
  },
  {
   "cell_type": "code",
   "execution_count": null,
   "metadata": {},
   "outputs": [],
   "source": [
    "age = tf.feature_column.numeric_column('Age')\n",
    "\n",
    "education = tf.feature_column.categorical_column_with_vocabulary_list(\n",
    "    'Education', column_variants().get('Education'))\n",
    "\n",
    "marital_status = tf.feature_column.categorical_column_with_vocabulary_list(\n",
    "    'MaritalStatus', column_variants().get('MaritalStatus'))\n",
    "\n",
    "occupation = tf.feature_column.categorical_column_with_vocabulary_list(\n",
    "    'Occupation', column_variants().get('Occupation'))\n",
    "\n",
    "race = tf.feature_column.categorical_column_with_vocabulary_list(\n",
    "    'Race', column_variants().get('Race'))\n",
    "\n",
    "relationship = tf.feature_column.categorical_column_with_vocabulary_list(\n",
    "    'Relationship', column_variants().get('Relationship'))\n",
    "\n",
    "sex = tf.feature_column.categorical_column_with_vocabulary_list(\n",
    "    'Sex', column_variants().get('Sex'))\n",
    "\n",
    "work_class = tf.feature_column.categorical_column_with_vocabulary_list(\n",
    "    'WorkClass', column_variants().get('WorkClass'))\n",
    "\n",
    "feature_columns = [\n",
    "    tf.feature_column.bucketized_column(age, boundaries=[30, 40, 50, 60, 70]),\n",
    "    tf.feature_column.indicator_column(education),\n",
    "    tf.feature_column.indicator_column(marital_status),\n",
    "    tf.feature_column.indicator_column(occupation),\n",
    "    tf.feature_column.indicator_column(race),\n",
    "    tf.feature_column.indicator_column(relationship),\n",
    "    tf.feature_column.indicator_column(sex),\n",
    "    tf.feature_column.indicator_column(work_class),\n",
    "]"
   ]
  },
  {
   "cell_type": "code",
   "execution_count": null,
   "metadata": {},
   "outputs": [],
   "source": [
    "data_train_balanced = balance(data_train, 'Income', *Experiment.labels)\n",
    "\n",
    "experiments = [\n",
    "    Experiment('DNN (imbalanced)', data_train.copy(), data_test.copy()),\n",
    "    Experiment('DNN (balanced)', data_train_balanced.copy(), data_test.copy()),\n",
    "]\n",
    "\n",
    "for experiment in experiments:\n",
    "    model = tf.estimator.DNNClassifier(\n",
    "        hidden_units=[256, 128, 64], feature_columns=feature_columns,\n",
    "        label_vocabulary=Experiment.labels, optimizer='Adam',\n",
    "        model_dir='/tmp/model/{}'.format(experiment.name))\n",
    "    experiment.assess(*experiment.run(model))"
   ]
  }
 ],
 "metadata": {
  "kernelspec": {
   "display_name": "Python 3",
   "language": "python",
   "name": "python3"
  },
  "language_info": {
   "codemirror_mode": {
    "name": "ipython",
    "version": 3
   },
   "file_extension": ".py",
   "mimetype": "text/x-python",
   "name": "python",
   "nbconvert_exporter": "python",
   "pygments_lexer": "ipython3"
  }
 },
 "nbformat": 4,
 "nbformat_minor": 2
}
