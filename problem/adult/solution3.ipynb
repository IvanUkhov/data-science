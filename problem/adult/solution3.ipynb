{
 "cells": [
  {
   "cell_type": "markdown",
   "metadata": {},
   "source": [
    "## References\n",
    "\n",
    "* [Adult Data Set](https://archive.ics.uci.edu/ml/datasets/Adult) (UCI)"
   ]
  },
  {
   "cell_type": "code",
   "execution_count": null,
   "metadata": {},
   "outputs": [],
   "source": [
    "import matplotlib.pyplot as pp\n",
    "import numpy as np\n",
    "import pandas as pd\n",
    "import seaborn as sb\n",
    "import tensorflow as tf\n",
    "\n",
    "from common import balance_dataset, column_variants, load_dataset\n",
    "from common import plot_confusion, print_confusion\n",
    "from sklearn.model_selection import train_test_split as split\n",
    "\n",
    "np.random.seed(0)\n",
    "tf.set_random_seed(0)\n",
    "tf.logging.set_verbosity(tf.logging.ERROR)"
   ]
  },
  {
   "cell_type": "code",
   "execution_count": null,
   "metadata": {},
   "outputs": [],
   "source": [
    "data = pd.concat([load_dataset('data/train.csv'),\n",
    "                  load_dataset('data/test.csv', skiprows=1)])\n",
    "\n",
    "data.dropna(inplace=True)\n",
    "data = data.sample(frac=1).reset_index(drop=True)\n",
    "\n",
    "data.info()\n",
    "display(data.head())\n",
    "sb.countplot(data['Income'])"
   ]
  },
  {
   "cell_type": "code",
   "execution_count": null,
   "metadata": {},
   "outputs": [],
   "source": [
    "class Dataset:\n",
    "    def __init__(self, data, balance=False, test_size=0.3):\n",
    "        data_train, data_test = split(data, test_size=test_size, random_state=0)\n",
    "        if balance: data_train = balance_dataset(data_train, 'Income')\n",
    "        self.y_train = data_train.pop('Income')\n",
    "        self.x_train = data_train\n",
    "        self.y_test = data_test.pop('Income')\n",
    "        self.x_test = data_test\n",
    "\n",
    "    def create_train_input_fn(self, batch_size=32): \n",
    "        return tf.estimator.inputs.pandas_input_fn(\n",
    "            x=self.x_train, y=self.y_train,\n",
    "            batch_size=batch_size,\n",
    "            num_epochs=None, shuffle=True)\n",
    "\n",
    "    def create_test_input_fn(self, batch_size=32):\n",
    "        return tf.estimator.inputs.pandas_input_fn(\n",
    "            x=self.x_test, batch_size=batch_size,\n",
    "            num_epochs=1, shuffle=False)"
   ]
  },
  {
   "cell_type": "code",
   "execution_count": null,
   "metadata": {},
   "outputs": [],
   "source": [
    "datasets = {\n",
    "    'Original': Dataset(data),\n",
    "    'Balanced': Dataset(data, balance=True),\n",
    "}\n",
    "\n",
    "for name in datasets:\n",
    "    assert(datasets['Original'].x_test.equals(datasets[name].x_test))"
   ]
  },
  {
   "cell_type": "code",
   "execution_count": null,
   "metadata": {},
   "outputs": [],
   "source": [
    "age = tf.feature_column.numeric_column('Age')\n",
    "\n",
    "education = tf.feature_column.categorical_column_with_vocabulary_list(\n",
    "    'Education', column_variants().get('Education'))\n",
    "\n",
    "marital_status = tf.feature_column.categorical_column_with_vocabulary_list(\n",
    "    'MaritalStatus', column_variants().get('MaritalStatus'))\n",
    "\n",
    "occupation = tf.feature_column.categorical_column_with_vocabulary_list(\n",
    "    'Occupation', column_variants().get('Occupation'))\n",
    "\n",
    "race = tf.feature_column.categorical_column_with_vocabulary_list(\n",
    "    'Race', column_variants().get('Race'))\n",
    "\n",
    "relationship = tf.feature_column.categorical_column_with_vocabulary_list(\n",
    "    'Relationship', column_variants().get('Relationship'))\n",
    "\n",
    "sex = tf.feature_column.categorical_column_with_vocabulary_list(\n",
    "    'Sex', column_variants().get('Sex'))\n",
    "\n",
    "work_class = tf.feature_column.categorical_column_with_vocabulary_list(\n",
    "    'WorkClass', column_variants().get('WorkClass'))"
   ]
  },
  {
   "cell_type": "code",
   "execution_count": null,
   "metadata": {},
   "outputs": [],
   "source": [
    "def create_deep_model_fn(feature_columns, hidden_units=[256, 128, 64]):\n",
    "    def _function(**arguments):\n",
    "        return tf.estimator.DNNClassifier(\n",
    "            hidden_units=hidden_units, feature_columns=feature_columns,\n",
    "            optimizer='Adam', **arguments)\n",
    "    return _function\n",
    "\n",
    "def create_linear_model_fn(feature_columns, hidden_units=[256, 128, 64]):\n",
    "    def _function(**arguments):\n",
    "        return tf.estimator.LinearClassifier(\n",
    "            feature_columns=feature_columns,\n",
    "            optimizer='Adam', **arguments)\n",
    "    return _function"
   ]
  },
  {
   "cell_type": "code",
   "execution_count": null,
   "metadata": {},
   "outputs": [],
   "source": [
    "models = {\n",
    "    'Deep': create_deep_model_fn([\n",
    "        tf.feature_column.bucketized_column(age, boundaries=[30, 40, 50, 60, 70]),\n",
    "        tf.feature_column.indicator_column(education),\n",
    "        tf.feature_column.indicator_column(marital_status),\n",
    "        tf.feature_column.indicator_column(occupation),\n",
    "        tf.feature_column.indicator_column(race),\n",
    "        tf.feature_column.indicator_column(relationship),\n",
    "        tf.feature_column.indicator_column(sex),\n",
    "        tf.feature_column.indicator_column(work_class),\n",
    "    ]),\n",
    "    'Linear': create_linear_model_fn([\n",
    "        tf.feature_column.bucketized_column(age, boundaries=[30, 40, 50, 60, 70]),\n",
    "        education,\n",
    "        marital_status,\n",
    "        occupation,\n",
    "        race,\n",
    "        relationship,\n",
    "        sex,\n",
    "        work_class,   \n",
    "    ]),\n",
    "}"
   ]
  },
  {
   "cell_type": "code",
   "execution_count": null,
   "metadata": {},
   "outputs": [],
   "source": [
    "def assess(dataset, y_predicted, y_score):\n",
    "    print_confusion(dataset.y_test, y_predicted, y_score)\n",
    "    plot_confusion(dataset.y_test, y_predicted, y_score)\n",
    "\n",
    "def train_predict(model, dataset, steps=2000):\n",
    "    model.train(dataset.create_train_input_fn(), steps=steps)\n",
    "    predictions = list(model.predict(dataset.create_test_input_fn()))\n",
    "    y_predicted = pd.Series([prediction['classes'][0] == b'1' for prediction in predictions])\n",
    "    y_score = [prediction['probabilities'][1] for prediction in predictions]\n",
    "    return y_predicted, y_score"
   ]
  },
  {
   "cell_type": "code",
   "execution_count": null,
   "metadata": {},
   "outputs": [],
   "source": [
    "for dataset_name in datasets:\n",
    "    for model_name in models:\n",
    "        title = '{} dataset and {} model'.format(dataset_name, model_name)\n",
    "        print(title)\n",
    "        model_dir = '/tmp/model/dataset({})-model({})'.format(dataset_name, model_name)\n",
    "        model = models[model_name](model_dir=model_dir)\n",
    "        result = train_predict(model, datasets[dataset_name])\n",
    "        assess(datasets[dataset_name], *result)\n",
    "        pp.suptitle(title)\n",
    "        print()"
   ]
  }
 ],
 "metadata": {
  "kernelspec": {
   "display_name": "Python 3",
   "language": "python",
   "name": "python3"
  },
  "language_info": {
   "codemirror_mode": {
    "name": "ipython",
    "version": 3
   },
   "file_extension": ".py",
   "mimetype": "text/x-python",
   "name": "python",
   "nbconvert_exporter": "python",
   "pygments_lexer": "ipython3"
  }
 },
 "nbformat": 4,
 "nbformat_minor": 2
}
