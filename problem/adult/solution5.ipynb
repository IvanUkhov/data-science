{
 "cells": [
  {
   "cell_type": "markdown",
   "metadata": {},
   "source": [
    "## References\n",
    "\n",
    "* [Adult Data Set](https://archive.ics.uci.edu/ml/datasets/Adult) (UCI)"
   ]
  },
  {
   "cell_type": "code",
   "execution_count": null,
   "metadata": {},
   "outputs": [],
   "source": [
    "import numpy as np\n",
    "import pandas as pd\n",
    "\n",
    "from common import Dataset, column_variants, encode_categorical, load_data\n",
    "from collections import OrderedDict\n",
    "from scipy import stats\n",
    "from sklearn.linear_model import LinearRegression, LogisticRegression\n",
    "from sklearn.preprocessing import StandardScaler\n",
    "\n",
    "np.random.seed(0)"
   ]
  },
  {
   "cell_type": "code",
   "execution_count": null,
   "metadata": {},
   "outputs": [],
   "source": [
    "unused = [\n",
    "    'CapitalGain',\n",
    "    'CapitalLoss',\n",
    "    'EducationNumber',\n",
    "    'FinalSamplingWeight',\n",
    "]\n",
    "\n",
    "categorical = [\n",
    "    'Education',\n",
    "    'MaritalStatus',\n",
    "    'NativeCountry',\n",
    "    'Occupation',\n",
    "    'Race',\n",
    "    'Relationship',\n",
    "    'Sex',\n",
    "    'WorkClass',\n",
    "]\n",
    "\n",
    "numerical = [\n",
    "    'Age',\n",
    "    'HoursPerWeek',\n",
    "]\n",
    "\n",
    "data = load_data('data/train.csv')\n",
    "data.dropna(inplace=True)\n",
    "data.drop(unused, axis=1, inplace=True)\n",
    "data.reset_index(drop=True, inplace=True)\n",
    "\n",
    "for name in categorical:\n",
    "    data = encode_categorical(data, name)\n",
    "\n",
    "scaler = StandardScaler()\n",
    "scaler.fit(data[numerical])\n",
    "data[numerical] = scaler.transform(data[numerical])\n",
    "\n",
    "data.info(verbose=True)\n",
    "\n",
    "y = data.pop('Income')\n",
    "x = data"
   ]
  },
  {
   "cell_type": "code",
   "execution_count": null,
   "metadata": {},
   "outputs": [],
   "source": [
    "model = LogisticRegression() if True else LinearRegression()\n",
    "model.fit(x, y)\n",
    "y_hat = model.predict(x)"
   ]
  },
  {
   "cell_type": "code",
   "execution_count": null,
   "metadata": {},
   "outputs": [],
   "source": [
    "def compute_significance(x, y, y_hat, coefficients, coefficients_null=0):\n",
    "    residual_variance = sum((y - y_hat)**2) / (x.shape[0] - x.shape[1])\n",
    "    covariance_matrix = residual_variance * np.linalg.inv(np.dot(x.T, x))\n",
    "    standard_errors = np.sqrt(covariance_matrix.diagonal())\n",
    "    t_values = (coefficients - coefficients_null) / standard_errors\n",
    "    p_values = [2 * (1 - stats.t.cdf(np.abs(t), (x.shape[0] - 1))) for t in t_values]\n",
    "    return pd.DataFrame(index=x.columns, data=OrderedDict([\n",
    "        ('Coefficient', coefficients),\n",
    "        ('Standard error', standard_errors),\n",
    "        ('T-value', t_values),\n",
    "        ('P-value', p_values),\n",
    "    ]))\n",
    "\n",
    "coefficients = np.append(model.intercept_, model.coef_)\n",
    "x = pd.DataFrame({'Intercept': np.ones(len(x))}).join(pd.DataFrame(x))\n",
    "\n",
    "significance = compute_significance(x, y, y_hat, coefficients)"
   ]
  },
  {
   "cell_type": "code",
   "execution_count": null,
   "metadata": {},
   "outputs": [],
   "source": [
    "pd.set_option('display.float_format', '{:.4f}'.format)\n",
    "pd.set_option('display.height', len(significance))\n",
    "pd.set_option('display.max_rows', len(significance))\n",
    "\n",
    "significance"
   ]
  }
 ],
 "metadata": {
  "kernelspec": {
   "display_name": "Python 3",
   "language": "python",
   "name": "python3"
  },
  "language_info": {
   "codemirror_mode": {
    "name": "ipython",
    "version": 3
   },
   "file_extension": ".py",
   "mimetype": "text/x-python",
   "name": "python",
   "nbconvert_exporter": "python",
   "pygments_lexer": "ipython3"
  }
 },
 "nbformat": 4,
 "nbformat_minor": 2
}
