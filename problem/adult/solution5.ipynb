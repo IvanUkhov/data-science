{
 "cells": [
  {
   "cell_type": "markdown",
   "metadata": {},
   "source": [
    "## References\n",
    "\n",
    "* [Adult Data Set](https://archive.ics.uci.edu/ml/datasets/Adult) (UCI)"
   ]
  },
  {
   "cell_type": "code",
   "execution_count": null,
   "metadata": {},
   "outputs": [],
   "source": [
    "import numpy as np\n",
    "import pandas as pd\n",
    "import statsmodels.api as sm\n",
    "\n",
    "from common import Dataset, column_variants, load_data, make_dummy\n",
    "\n",
    "np.random.seed(0)"
   ]
  },
  {
   "cell_type": "code",
   "execution_count": null,
   "metadata": {},
   "outputs": [],
   "source": [
    "data = pd.concat([load_data('data/train.csv'),\n",
    "                  load_data('data/test.csv', skiprows=1)])\n",
    "\n",
    "drop = ['CapitalGain', 'CapitalLoss', 'EducationNumber', 'FinalSamplingWeight']\n",
    "data.drop(drop, axis=1, inplace=True,)\n",
    "data.dropna(inplace=True)\n",
    "data.reset_index(drop=True, inplace=True)\n",
    "\n",
    "data = make_dummy(data, 'Education')\n",
    "data = make_dummy(data, 'MaritalStatus')\n",
    "data = make_dummy(data, 'NativeCountry', keep=['Mexico', 'United-States'])\n",
    "data = make_dummy(data, 'Occupation')\n",
    "data = make_dummy(data, 'Race')\n",
    "data = make_dummy(data, 'Relationship')\n",
    "data = make_dummy(data, 'Sex')\n",
    "data = make_dummy(data, 'WorkClass')\n",
    "\n",
    "data.info()\n",
    "data.head()"
   ]
  },
  {
   "cell_type": "code",
   "execution_count": null,
   "metadata": {},
   "outputs": [],
   "source": [
    "dataset = Dataset(data)\n",
    "\n",
    "x = sm.add_constant(dataset.x_train)\n",
    "y = dataset.y_train\n",
    "\n",
    "model = sm.OLS(y, x).fit()\n",
    "model.summary()"
   ]
  }
 ],
 "metadata": {
  "kernelspec": {
   "display_name": "Python 3",
   "language": "python",
   "name": "python3"
  },
  "language_info": {
   "codemirror_mode": {
    "name": "ipython",
    "version": 3
   },
   "file_extension": ".py",
   "mimetype": "text/x-python",
   "name": "python",
   "nbconvert_exporter": "python",
   "pygments_lexer": "ipython3"
  }
 },
 "nbformat": 4,
 "nbformat_minor": 2
}
