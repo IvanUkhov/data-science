{
 "cells": [
  {
   "cell_type": "markdown",
   "metadata": {},
   "source": [
    "# References\n",
    "\n",
    "* [MovieLens](https://grouplens.org/datasets/movielens/)"
   ]
  },
  {
   "cell_type": "code",
   "execution_count": null,
   "metadata": {},
   "outputs": [],
   "source": [
    "import numpy as np\n",
    "import pandas as pd\n",
    "\n",
    "from problem.database import Movie\n",
    "from problem.database import Rating\n",
    "from surprise import Dataset\n",
    "from surprise import KNNBaseline\n",
    "from surprise import Reader\n",
    "\n",
    "np.random.seed(42)\n",
    "pd.set_option('precision', 1)"
   ]
  },
  {
   "cell_type": "code",
   "execution_count": null,
   "metadata": {},
   "outputs": [],
   "source": [
    "movie_database = Movie.load()\n",
    "rating_database = Rating.load(nrows=10**6 // 2)\n",
    "train_database, _ = rating_database.split()\n",
    "\n",
    "users = rating_database.data.groupby('userId')['movieId'].agg('count')\n",
    "\n",
    "user = np.random.choice(users[users > 10].index)\n",
    "ratings = rating_database.find_by_user(user)\n",
    "movies = movie_database.find(ratings.index).join(ratings)"
   ]
  },
  {
   "cell_type": "code",
   "execution_count": null,
   "metadata": {},
   "outputs": [],
   "source": [
    "reader = Reader(rating_scale=(1, 5))\n",
    "train_database = Dataset.load_from_df(train_database.data, reader)\n",
    "train_database = train_database.construct_trainset(train_database.raw_ratings)"
   ]
  },
  {
   "cell_type": "markdown",
   "metadata": {},
   "source": [
    "# User-based Filtering"
   ]
  },
  {
   "cell_type": "code",
   "execution_count": null,
   "metadata": {},
   "outputs": [],
   "source": [
    "model = KNNBaseline(sim_options={'name': 'msd', 'user_based': True})\n",
    "model.fit(train_database)\n",
    "\n",
    "estimates = [prediction.est if not prediction.details['was_impossible'] else np.nan\n",
    "             for prediction in [model.predict(user, movie) for movie in movies.index]]\n",
    "movies.join(pd.DataFrame({'estimate': estimates}, index=movies.index))"
   ]
  },
  {
   "cell_type": "markdown",
   "metadata": {},
   "source": [
    "# Item-based Filtering"
   ]
  },
  {
   "cell_type": "code",
   "execution_count": null,
   "metadata": {},
   "outputs": [],
   "source": [
    "model = KNNBaseline(sim_options={'name': 'msd', 'user_based': False})\n",
    "model.fit(train_database)\n",
    "\n",
    "estimates = [prediction.est if not prediction.details['was_impossible'] else np.nan\n",
    "             for prediction in [model.predict(user, movie) for movie in movies.index]]\n",
    "movies.join(pd.DataFrame({'estimate': estimates}, index=movies.index))"
   ]
  }
 ],
 "metadata": {
  "kernelspec": {
   "display_name": "Python 3",
   "language": "python",
   "name": "python3"
  },
  "language_info": {
   "codemirror_mode": {
    "name": "ipython",
    "version": 3
   },
   "file_extension": ".py",
   "mimetype": "text/x-python",
   "name": "python",
   "nbconvert_exporter": "python",
   "pygments_lexer": "ipython3"
  }
 },
 "nbformat": 4,
 "nbformat_minor": 2
}
