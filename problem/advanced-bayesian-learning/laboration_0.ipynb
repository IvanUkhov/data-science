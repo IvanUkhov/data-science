{
 "cells": [
  {
   "cell_type": "code",
   "execution_count": null,
   "metadata": {},
   "outputs": [],
   "source": [
    "import matplotlib.pyplot as pp\n",
    "import numpy as np"
   ]
  },
  {
   "cell_type": "code",
   "execution_count": null,
   "metadata": {},
   "outputs": [],
   "source": [
    "pp.style.use('ggplot')\n",
    "np.random.seed(42)"
   ]
  },
  {
   "cell_type": "code",
   "execution_count": null,
   "metadata": {},
   "outputs": [],
   "source": [
    "def gaussian_process_kernel(x_1, x_2, length=1.0, sigma=1.0):\n",
    "    distance_squared = np.sum(x_1**2, 1).reshape(-1, 1) + np.sum(x_2**2, 1) - 2 * np.dot(x_1, x_2.T)\n",
    "    return sigma**2 * np.exp(-distance_squared / length**2 / 2)\n",
    "\n",
    "def gaussian_process_prior_sample(n, x):\n",
    "    mean = np.zeros(x.shape)\n",
    "    covariance = gaussian_process_kernel(x, x)\n",
    "    return np.random.multivariate_normal(mean.ravel(), covariance, n).T\n",
    "\n",
    "def gaussian_process_posterior_predictive(x_s, x, y, sigma=0):\n",
    "    k = gaussian_process_kernel(x, x)\n",
    "    k_s = gaussian_process_kernel(x_s, x)\n",
    "    k_ss = gaussian_process_kernel(x_s, x_s)\n",
    "    k_inv = np.linalg.inv(k + sigma**2 * np.eye(x.shape[0]))\n",
    "    mean_s = k_s.dot(k_inv).dot(y)\n",
    "    covariance_s = k_ss - k_s.dot(k_inv).dot(k_s.T)\n",
    "    return mean_s, covariance_s\n",
    "\n",
    "def gaussian_process_posterior_predictive_sample(n, x_s, x, y, **options):\n",
    "    mean, covariance = gaussian_process_posterior_predictive(x_s, x, y, **options)\n",
    "    return np.random.multivariate_normal(mean.ravel(), covariance, n).T\n",
    "\n",
    "def noise_prior_sample(n, x, tau=1):\n",
    "    weight = np.random.normal(0, tau, (x.shape[1] + 1, n))\n",
    "    sigma = np.sqrt(np.exp(weight[0, :] + x.dot(weight[1:, :])))\n",
    "    return np.random.normal(0, sigma)"
   ]
  },
  {
   "cell_type": "code",
   "execution_count": null,
   "metadata": {},
   "outputs": [],
   "source": [
    "x = np.arange(-5, 5, 0.1).reshape(-1, 1)\n",
    "y = gaussian_process_prior_sample(3, x)\n",
    "\n",
    "pp.plot(x, y)"
   ]
  },
  {
   "cell_type": "code",
   "execution_count": null,
   "metadata": {},
   "outputs": [],
   "source": [
    "y = noise_prior_sample(3, x)\n",
    "\n",
    "pp.plot(x, y)"
   ]
  },
  {
   "cell_type": "code",
   "execution_count": null,
   "metadata": {},
   "outputs": [],
   "source": [
    "x_train = np.array([-4, -3, -2, -1, 1]).reshape(-1, 1)\n",
    "y_train = np.sin(x_train)\n",
    "y = gaussian_process_posterior_predictive_sample(3, x, x_train, y_train)\n",
    "\n",
    "pp.plot(x, y)\n",
    "pp.scatter(x_train, y_train)"
   ]
  }
 ],
 "metadata": {
  "kernelspec": {
   "display_name": "Python 3",
   "language": "python",
   "name": "python3"
  },
  "language_info": {
   "codemirror_mode": {
    "name": "ipython",
    "version": 3
   },
   "file_extension": ".py",
   "mimetype": "text/x-python",
   "name": "python",
   "nbconvert_exporter": "python",
   "pygments_lexer": "ipython3",
   "version": "3.7.7"
  }
 },
 "nbformat": 4,
 "nbformat_minor": 4
}
