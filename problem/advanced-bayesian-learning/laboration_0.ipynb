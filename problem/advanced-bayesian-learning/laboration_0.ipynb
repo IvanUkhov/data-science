{
 "cells": [
  {
   "cell_type": "code",
   "execution_count": null,
   "metadata": {},
   "outputs": [],
   "source": [
    "import matplotlib.pyplot as pp\n",
    "import numpy as np"
   ]
  },
  {
   "cell_type": "code",
   "execution_count": null,
   "metadata": {},
   "outputs": [],
   "source": [
    "pp.style.use('ggplot')"
   ]
  },
  {
   "cell_type": "code",
   "execution_count": null,
   "metadata": {},
   "outputs": [],
   "source": [
    "def kernel(x, y, length=1.0, sigma=1.0):\n",
    "    distance_squared = np.sum(x**2, 1).reshape(-1, 1) + np.sum(y**2, 1) - 2 * np.dot(x, y.T)\n",
    "    return sigma**2 * np.exp(-distance_squared / 2 / length**2)\n",
    "\n",
    "x = np.arange(-5, 5, 0.1).reshape(-1, 1)\n",
    "mu = np.zeros(x.shape)\n",
    "cov = kernel(x, x)\n",
    "y = np.random.multivariate_normal(mu.ravel(), cov, 3).T\n",
    "\n",
    "pp.plot(x, y)"
   ]
  },
  {
   "cell_type": "code",
   "execution_count": null,
   "metadata": {},
   "outputs": [],
   "source": [
    "def posterior_predictive(x_s, x, y, length_f=1.0, sigma_f=1.0, sigma_y=0):\n",
    "    k = kernel(x, x, length_f, sigma_f)\n",
    "    k_s = kernel(x_s, x, length_f, sigma_f)\n",
    "    k_ss = kernel(x_s, x_s, length_f, sigma_f)\n",
    "    k_inv = np.linalg.inv(k + sigma_y**2 * np.eye(len(x)))\n",
    "    mu_s = k_s.dot(k_inv).dot(y)\n",
    "    cov_s = k_ss - k_s.dot(k_inv).dot(k_s.T)\n",
    "    return mu_s, cov_s"
   ]
  },
  {
   "cell_type": "code",
   "execution_count": null,
   "metadata": {},
   "outputs": [],
   "source": [
    "x_train = np.array([-4, -3, -2, -1, 1]).reshape(-1, 1)\n",
    "y_train = np.sin(x_train)\n",
    "\n",
    "mu, cov = posterior_predictive(x, x_train, y_train)\n",
    "y = np.random.multivariate_normal(mu.ravel(), cov, 3).T\n",
    "\n",
    "pp.plot(x, y)\n",
    "pp.scatter(x_train, y_train)"
   ]
  }
 ],
 "metadata": {
  "kernelspec": {
   "display_name": "Python 3",
   "language": "python",
   "name": "python3"
  },
  "language_info": {
   "codemirror_mode": {
    "name": "ipython",
    "version": 3
   },
   "file_extension": ".py",
   "mimetype": "text/x-python",
   "name": "python",
   "nbconvert_exporter": "python",
   "pygments_lexer": "ipython3",
   "version": "3.7.7"
  }
 },
 "nbformat": 4,
 "nbformat_minor": 4
}
