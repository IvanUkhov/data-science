{
 "cells": [
  {
   "cell_type": "code",
   "execution_count": null,
   "metadata": {},
   "outputs": [],
   "source": [
    "import matplotlib.pyplot as pp\n",
    "import numpy as np\n",
    "import pandas as pd\n",
    "import tensorflow as tf\n",
    "import tensorflow_probability as tp"
   ]
  },
  {
   "cell_type": "code",
   "execution_count": null,
   "metadata": {},
   "outputs": [],
   "source": [
    "url = 'https://raw.githubusercontent.com/mattiasvillani/AdvBayesLearnCourse/master/Labs/LidarData.dat'\n",
    "data = pd.read_table(url, sep='\\s+')\n",
    "x = data['Distance'].values.reshape((-1, 1))\n",
    "y = data['LogRatio'].values"
   ]
  },
  {
   "cell_type": "code",
   "execution_count": null,
   "metadata": {},
   "outputs": [],
   "source": [
    "pp.scatter(x, y)"
   ]
  },
  {
   "cell_type": "code",
   "execution_count": null,
   "metadata": {},
   "outputs": [],
   "source": [
    "def build_gaussian_process(amplitude, length_scale, noise_variance):\n",
    "    return tp.distributions.GaussianProcess(\n",
    "        kernel=tp.math.psd_kernels.ExponentiatedQuadratic(amplitude, length_scale),\n",
    "        observation_noise_variance=noise_variance,\n",
    "        index_points=x,\n",
    "    )\n",
    "\n",
    "model = tp.distributions.JointDistributionNamed(dict(\n",
    "    amplitude=tp.distributions.LogNormal(loc=0., scale=np.float64(1.)),\n",
    "    length_scale=tp.distributions.LogNormal(loc=0., scale=np.float64(1.)),\n",
    "    noise_variance=tp.distributions.LogNormal(loc=0., scale=np.float64(1.)),\n",
    "    observations=build_gaussian_process,\n",
    "))"
   ]
  },
  {
   "cell_type": "code",
   "execution_count": null,
   "metadata": {},
   "outputs": [],
   "source": [
    "x_ = model.sample()\n",
    "model.log_prob(x_)"
   ]
  },
  {
   "cell_type": "code",
   "execution_count": null,
   "metadata": {},
   "outputs": [],
   "source": [
    "@tf.function(autograph=False, experimental_compile=False)\n",
    "def log_probability(amplitude, length_scale, noise_variance):\n",
    "    return model.log_prob(dict(\n",
    "        amplitude=amplitude,\n",
    "        length_scale=length_scale,\n",
    "        noise_variance=noise_variance,\n",
    "        observations=y,\n",
    "    ))\n",
    "\n",
    "num_draws = 100\n",
    "num_burnin_steps = 50\n",
    "\n",
    "step_size = 0.1\n",
    "num_leapfrog_steps = 8\n",
    "\n",
    "num_adaptation_steps = int(0.8 * num_burnin_steps)\n",
    "acceptance_probability = 0.75\n",
    "\n",
    "constrain_positive = tp.bijectors.Shift(np.finfo(np.float64).tiny)(tp.bijectors.Exp())\n",
    "\n",
    "sampler = tp.mcmc.TransformedTransitionKernel(\n",
    "    tp.mcmc.HamiltonianMonteCarlo(\n",
    "        target_log_prob_fn=log_probability,\n",
    "        step_size=tf.cast(step_size, tf.float64),\n",
    "        num_leapfrog_steps=num_leapfrog_steps,\n",
    "    ),\n",
    "    bijector=[\n",
    "        constrain_positive,\n",
    "        constrain_positive,\n",
    "        constrain_positive,\n",
    "    ],\n",
    ")\n",
    "sampler = tp.mcmc.DualAveragingStepSizeAdaptation(\n",
    "    inner_kernel=sampler,\n",
    "    num_adaptation_steps=num_adaptation_steps,\n",
    "    target_accept_prob=tf.cast(acceptance_probability, tf.float64),\n",
    ")\n",
    "\n",
    "initial_state = [tf.cast(x, tf.float64) for x in [1., 1., 1.]]\n",
    "\n",
    "@tf.function(autograph=False, experimental_compile=False)\n",
    "def sample():\n",
    "    return tp.mcmc.sample_chain(\n",
    "        kernel=sampler,\n",
    "        current_state=initial_state,\n",
    "        num_results=num_draws,\n",
    "        num_burnin_steps=num_burnin_steps,\n",
    "        trace_fn=lambda current_state, kernel_results: kernel_results,\n",
    "    )\n",
    "\n",
    "samples, results = sample()"
   ]
  }
 ],
 "metadata": {
  "kernelspec": {
   "display_name": "Python 3",
   "language": "python",
   "name": "python3"
  },
  "language_info": {
   "codemirror_mode": {
    "name": "ipython",
    "version": 3
   },
   "file_extension": ".py",
   "mimetype": "text/x-python",
   "name": "python",
   "nbconvert_exporter": "python",
   "pygments_lexer": "ipython3",
   "version": "3.7.7"
  }
 },
 "nbformat": 4,
 "nbformat_minor": 4
}
