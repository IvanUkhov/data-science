{
 "cells": [
  {
   "cell_type": "markdown",
   "metadata": {},
   "source": [
    "## References\n",
    "\n",
    "* [MNIST](http://yann.lecun.com/exdb/mnist/)\n",
    "* [Deep MNIST for experts](https://www.tensorflow.org/get_started/mnist/pros)"
   ]
  },
  {
   "cell_type": "code",
   "execution_count": null,
   "metadata": {},
   "outputs": [],
   "source": [
    "import numpy as np\n",
    "import tensorflow as tf\n",
    "\n",
    "from tensorflow.examples.tutorials.mnist.input_data import read_data_sets as load_data\n",
    "\n",
    "np.random.seed(0)\n",
    "tf.set_random_seed(0)"
   ]
  },
  {
   "cell_type": "code",
   "execution_count": null,
   "metadata": {},
   "outputs": [],
   "source": [
    "data = load_data('data', one_hot=True)\n",
    "\n",
    "print('Training: {}'.format(data.train.num_examples))\n",
    "print('Validation: {}'.format(data.validation.num_examples))\n",
    "print('Testing: {}'.format(data.test.num_examples))"
   ]
  },
  {
   "cell_type": "code",
   "execution_count": null,
   "metadata": {},
   "outputs": [],
   "source": [
    "tf.reset_default_graph()\n",
    "\n",
    "class Model:\n",
    "    def __init__(self):\n",
    "        self.x = tf.placeholder(tf.float32, shape=[None, 784])\n",
    "        self.y = tf.placeholder(tf.float32, shape=[None, 10])\n",
    "        W = tf.Variable(tf.zeros([784, 10]))\n",
    "        b = tf.Variable(tf.zeros([10]))\n",
    "        self.y_logit = tf.matmul(self.x, W) + b\n",
    "\n",
    "class Objective:\n",
    "    def __init__(self, model, **arguments):\n",
    "        self.loss = tf.reduce_mean(tf.nn.softmax_cross_entropy_with_logits(\n",
    "            labels=model.y, logits=model.y_logit))\n",
    "        optimizer = tf.train.GradientDescentOptimizer(**arguments)\n",
    "        self.train = optimizer.minimize(self.loss)\n",
    "\n",
    "class Experiment:\n",
    "    def run(self, data, model, objective, session, batch_size=32, step_count=1000):\n",
    "        for _ in range(step_count):\n",
    "            batch = data.train.next_batch(batch_size)\n",
    "            feed = {model.x: batch[0], model.y: batch[1]}\n",
    "            session.run(objective.train, feed_dict=feed)\n",
    "        feed = {model.x: data.test.images, model.y: data.test.labels}\n",
    "        y_score = session.run(tf.nn.softmax(model.y_logit), feed_dict=feed)\n",
    "        y_predicted = np.argmax(y_score, axis=1)\n",
    "        y_test = np.argmax(data.test.labels, axis=1)\n",
    "        return self._assess(y_test, y_predicted, y_score)\n",
    "\n",
    "    def _assess(self, y_test, y_predicted, y_score):\n",
    "        total = len(y_test)\n",
    "        return {\n",
    "            'Accuracy': (y_test == y_predicted).sum() / total,\n",
    "        }\n",
    "\n",
    "graph = tf.Graph()\n",
    "with graph.as_default():\n",
    "    model = Model()\n",
    "    objective = Objective(model, learning_rate=0.5)\n",
    "    initialize = tf.global_variables_initializer()\n",
    "\n",
    "with tf.Session(graph=graph) as session:\n",
    "    session.run(initialize)\n",
    "    experiment = Experiment()\n",
    "    display(experiment.run(data, model, objective, session))"
   ]
  }
 ],
 "metadata": {
  "kernelspec": {
   "display_name": "Python 3",
   "language": "python",
   "name": "python3"
  },
  "language_info": {
   "codemirror_mode": {
    "name": "ipython",
    "version": 3
   },
   "file_extension": ".py",
   "mimetype": "text/x-python",
   "name": "python",
   "nbconvert_exporter": "python",
   "pygments_lexer": "ipython3"
  }
 },
 "nbformat": 4,
 "nbformat_minor": 2
}
