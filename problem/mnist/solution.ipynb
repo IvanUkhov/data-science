{
 "cells": [
  {
   "cell_type": "markdown",
   "metadata": {},
   "source": [
    "## References\n",
    "\n",
    "* [MNIST](http://yann.lecun.com/exdb/mnist/)\n",
    "* [Deep MNIST for experts](https://www.tensorflow.org/get_started/mnist/pros)"
   ]
  },
  {
   "cell_type": "code",
   "execution_count": null,
   "metadata": {},
   "outputs": [],
   "source": [
    "import numpy as np\n",
    "import tensorflow as tf\n",
    "\n",
    "from tensorflow.examples.tutorials.mnist.input_data import read_data_sets as load_data\n",
    "\n",
    "np.random.seed(0)\n",
    "tf.set_random_seed(0)"
   ]
  },
  {
   "cell_type": "code",
   "execution_count": null,
   "metadata": {},
   "outputs": [],
   "source": [
    "CLASS_COUNT = 10\n",
    "IMAGE_SIZE = 28\n",
    "\n",
    "data = load_data('data', one_hot=True)\n",
    "\n",
    "print('Training: {}'.format(data.train.num_examples))\n",
    "print('Validation: {}'.format(data.validation.num_examples))\n",
    "print('Testing: {}'.format(data.test.num_examples))"
   ]
  },
  {
   "cell_type": "code",
   "execution_count": null,
   "metadata": {},
   "outputs": [],
   "source": [
    "tf.reset_default_graph()\n",
    "\n",
    "class Model:\n",
    "    def __init__(self, x, y):\n",
    "        self.x, self.y = x, y\n",
    "        with tf.name_scope('model'):\n",
    "            W = tf.Variable(tf.zeros([IMAGE_SIZE * IMAGE_SIZE, CLASS_COUNT]), name='weight')\n",
    "            b = tf.Variable(tf.zeros([CLASS_COUNT]), name='bias')\n",
    "            self.y_logit = tf.matmul(x, W) + b\n",
    "\n",
    "class Objective:\n",
    "    def __init__(self, model, **arguments):\n",
    "        with tf.name_scope('objective'):\n",
    "            self.loss = tf.reduce_mean(tf.nn.softmax_cross_entropy_with_logits(\n",
    "                labels=model.y, logits=model.y_logit), name='loss')\n",
    "            optimizer = tf.train.AdamOptimizer(**arguments)\n",
    "            self.train = optimizer.minimize(self.loss)\n",
    "\n",
    "class Experiment:\n",
    "    def run(self, data, model, objective, session, batch_size=2**6, step_count=2**10):\n",
    "        for _ in range(step_count):\n",
    "            batch = data.train.next_batch(batch_size)\n",
    "            feed = {model.x: batch[0], model.y: batch[1]}\n",
    "            session.run(objective.train, feed_dict=feed)\n",
    "        feed = {model.x: data.test.images, model.y: data.test.labels}\n",
    "        y_score = session.run(tf.nn.softmax(model.y_logit), feed_dict=feed)\n",
    "        y_predicted = np.argmax(y_score, axis=1)\n",
    "        y_test = np.argmax(data.test.labels, axis=1)\n",
    "        test_count = data.test.num_examples\n",
    "        return {\n",
    "            'Accuracy': (y_test == y_predicted).sum() / test_count,\n",
    "        }\n",
    "\n",
    "graph = tf.Graph()\n",
    "with graph.as_default():\n",
    "    model = Model(\n",
    "       tf.placeholder(tf.float32, shape=[None, IMAGE_SIZE * IMAGE_SIZE], name='input'),\n",
    "       tf.placeholder(tf.float32, shape=[None, CLASS_COUNT], name='output'),\n",
    "    )\n",
    "    objective = Objective(model)\n",
    "    initialize = tf.global_variables_initializer()\n",
    "\n",
    "with tf.Session(graph=graph) as session:\n",
    "    with tf.summary.FileWriter('/tmp/model', graph) as writer:\n",
    "        session.run(initialize)\n",
    "        experiment = Experiment()\n",
    "        display(experiment.run(data, model, objective, session))"
   ]
  }
 ],
 "metadata": {
  "kernelspec": {
   "display_name": "Python 3",
   "language": "python",
   "name": "python3"
  },
  "language_info": {
   "codemirror_mode": {
    "name": "ipython",
    "version": 3
   },
   "file_extension": ".py",
   "mimetype": "text/x-python",
   "name": "python",
   "nbconvert_exporter": "python",
   "pygments_lexer": "ipython3"
  }
 },
 "nbformat": 4,
 "nbformat_minor": 2
}
