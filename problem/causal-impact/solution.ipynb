{
 "cells": [
  {
   "cell_type": "code",
   "execution_count": null,
   "metadata": {},
   "outputs": [],
   "source": [
    "import numpy as np\n",
    "import pandas as pd\n",
    "import tensorflow as tf\n",
    "import tensorflow_probability as tp\n",
    "\n",
    "from tensorflow_probability import distributions as td"
   ]
  },
  {
   "cell_type": "code",
   "execution_count": null,
   "metadata": {},
   "outputs": [],
   "source": [
    "np.random.seed(42)\n",
    "tf.random.set_seed(42)"
   ]
  },
  {
   "cell_type": "code",
   "execution_count": null,
   "metadata": {},
   "outputs": [],
   "source": [
    "scale = tf.convert_to_tensor(1, dtype=tf.float32)\n",
    "location = tf.convert_to_tensor(0, dtype=tf.float32)\n",
    "\n",
    "scale_prior = td.LogNormal(loc=tf.math.log(0.05 * scale), scale=1)\n",
    "location_prior = td.MultivariateNormalDiag(loc=location[..., tf.newaxis],\n",
    "                                           scale_diag=(tf.abs(location) + scale)[..., tf.newaxis])\n",
    "\n",
    "model = tp.sts.LocalLevelStateSpaceModel(num_timesteps=100,\n",
    "                                         level_scale=scale_prior.sample(),\n",
    "                                         initial_state_prior=location_prior)\n",
    "\n",
    "sample = np.squeeze(model.sample().numpy())\n",
    "\n",
    "x0 = 100 * np.random.rand(100)\n",
    "x1 = 90 * np.random.rand(100)\n",
    "y = 1.2 * x0 + 0.9 * x1 + sample\n",
    "y[70:] += 10\n",
    "\n",
    "data = pd.DataFrame(dict(x0=x0, x1=x1, y=y))"
   ]
  },
  {
   "cell_type": "code",
   "execution_count": null,
   "metadata": {},
   "outputs": [],
   "source": [
    "data.plot(figsize=(12, 4))"
   ]
  }
 ],
 "metadata": {
  "kernelspec": {
   "display_name": "Python 3",
   "language": "python",
   "name": "python3"
  },
  "language_info": {
   "codemirror_mode": {
    "name": "ipython",
    "version": 3
   },
   "file_extension": ".py",
   "mimetype": "text/x-python",
   "name": "python",
   "nbconvert_exporter": "python",
   "pygments_lexer": "ipython3",
   "version": "3.7.7"
  }
 },
 "nbformat": 4,
 "nbformat_minor": 4
}
