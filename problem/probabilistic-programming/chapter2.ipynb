{
 "cells": [
  {
   "cell_type": "code",
   "execution_count": null,
   "metadata": {},
   "outputs": [],
   "source": [
    "import matplotlib.pyplot as pp\n",
    "import tensorflow as tf\n",
    "import tensorflow_probability as tp\n",
    "\n",
    "from functools import partial"
   ]
  },
  {
   "cell_type": "code",
   "execution_count": null,
   "metadata": {},
   "outputs": [],
   "source": [
    "%config InlineBackend.figure_format = 'svg'"
   ]
  },
  {
   "cell_type": "code",
   "execution_count": null,
   "metadata": {},
   "outputs": [],
   "source": [
    "pp.style.use('ggplot')"
   ]
  },
  {
   "cell_type": "markdown",
   "metadata": {},
   "source": [
    "# A/B testing"
   ]
  },
  {
   "cell_type": "code",
   "execution_count": null,
   "metadata": {},
   "outputs": [],
   "source": [
    "def unnormalized_log_probability(success_count, total_count, success_probability):\n",
    "    rv_success_probability = tp.distributions.Uniform()\n",
    "    rv_success = tp.distributions.Bernoulli(probs=success_probability)\n",
    "    return (\n",
    "        rv_success_probability.log_prob(success_probability)\n",
    "        + tf.to_float(success_count) * rv_success.log_prob(1)\n",
    "        + tf.to_float(total_count - success_count) * rv_success.log_prob(0)\n",
    "    )\n",
    "\n",
    "probability = 0.05\n",
    "total_count = 100000\n",
    "success_count = tf.reduce_sum(tp.distributions.Bernoulli(probs=probability).sample(sample_shape=total_count))\n",
    "\n",
    "initial_state = [\n",
    "    tf.to_float(success_count) / tf.to_float(total_count),\n",
    "]\n",
    "\n",
    "unconstraining_bijectors = [\n",
    "    tp.bijectors.Identity(),  \n",
    "]\n",
    "\n",
    "with tf.variable_scope(tf.get_variable_scope(), reuse=tf.AUTO_REUSE):\n",
    "    step_size = tf.get_variable(\n",
    "        name='step_size',\n",
    "        initializer=tf.constant(0.5, dtype=tf.float32),\n",
    "        trainable=False,\n",
    "        use_resource=True,\n",
    "    )\n",
    "\n",
    "kernel = tp.mcmc.TransformedTransitionKernel(\n",
    "    inner_kernel=tp.mcmc.HamiltonianMonteCarlo(\n",
    "        target_log_prob_fn=partial(unnormalized_log_probability, success_count, total_count),\n",
    "        num_leapfrog_steps=2,\n",
    "        step_size=step_size,\n",
    "        step_size_update_fn=tp.mcmc.make_simple_step_size_update_policy(),\n",
    "        state_gradients_are_stopped=True,\n",
    "    ),\n",
    "    bijector=unconstraining_bijectors,\n",
    ")\n",
    "\n",
    "[posterior_probability], kernel = tp.mcmc.sample_chain(\n",
    "    num_results=100000,\n",
    "    num_burnin_steps=10000,\n",
    "    current_state=initial_state,\n",
    "    kernel=kernel,\n",
    ")"
   ]
  },
  {
   "cell_type": "code",
   "execution_count": null,
   "metadata": {},
   "outputs": [],
   "source": [
    "session = tf.Session()\n",
    "\n",
    "session.run([\n",
    "    tf.global_variables_initializer(),\n",
    "    tf.local_variables_initializer(),\n",
    "])\n",
    "\n",
    "[\n",
    "    posterior_probability_,\n",
    "    kernel_,\n",
    "] = session.run([\n",
    "    posterior_probability,\n",
    "    kernel,\n",
    "])\n",
    "\n",
    "print('Acceptance rate: {}'.format(kernel_.inner_results.is_accepted.mean()))"
   ]
  },
  {
   "cell_type": "code",
   "execution_count": null,
   "metadata": {},
   "outputs": [],
   "source": [
    "pp.figure(figsize=(12, 6))\n",
    "pp.axvline(x=probability, color='black', linestyle='--', lw=1)\n",
    "pp.hist(posterior_probability_, bins=25, density=True);"
   ]
  }
 ],
 "metadata": {
  "kernelspec": {
   "display_name": "Python 3",
   "language": "python",
   "name": "python3"
  }
 },
 "nbformat": 4,
 "nbformat_minor": 2
}
