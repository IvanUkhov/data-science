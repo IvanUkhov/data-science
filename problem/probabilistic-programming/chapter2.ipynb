{
 "cells": [
  {
   "cell_type": "code",
   "execution_count": null,
   "metadata": {},
   "outputs": [],
   "source": [
    "import matplotlib.pyplot as pp\n",
    "import tensorflow as tf\n",
    "import tensorflow_probability as tp\n",
    "\n",
    "from functools import partial"
   ]
  },
  {
   "cell_type": "code",
   "execution_count": null,
   "metadata": {},
   "outputs": [],
   "source": [
    "%config InlineBackend.figure_format = 'svg'"
   ]
  },
  {
   "cell_type": "code",
   "execution_count": null,
   "metadata": {},
   "outputs": [],
   "source": [
    "pp.style.use('ggplot')"
   ]
  },
  {
   "cell_type": "markdown",
   "metadata": {},
   "source": [
    "# A/B testing"
   ]
  },
  {
   "cell_type": "code",
   "execution_count": null,
   "metadata": {},
   "outputs": [],
   "source": [
    "def unnormalized_log_probability(success_num_a, success_num_b,\n",
    "                                 total_num_a, total_num_b,\n",
    "                                 rate_a, rate_b):\n",
    "    rv_rate_a = tp.distributions.Uniform()\n",
    "    rv_rate_b = tp.distributions.Uniform()\n",
    "    rv_success_a = tp.distributions.Bernoulli(probs=rate_a)\n",
    "    rv_success_b = tp.distributions.Bernoulli(probs=rate_b)\n",
    "    return (\n",
    "          rv_rate_a.log_prob(rate_a)\n",
    "        + rv_rate_b.log_prob(rate_b)\n",
    "        + tf.to_float(success_num_a) * rv_success_a.log_prob(1)\n",
    "        + tf.to_float(success_num_b) * rv_success_b.log_prob(1)\n",
    "        + tf.to_float(total_num_a - success_num_a) * rv_success_a.log_prob(0)\n",
    "        + tf.to_float(total_num_b - success_num_b) * rv_success_b.log_prob(0)\n",
    "    )\n",
    "\n",
    "rate_a = 0.04\n",
    "rate_b = 0.05\n",
    "total_num = 100000\n",
    "success_num_a = tf.reduce_sum(tp.distributions.Bernoulli(probs=rate_a).sample(sample_shape=total_num))\n",
    "success_num_b = tf.reduce_sum(tp.distributions.Bernoulli(probs=rate_b).sample(sample_shape=total_num))\n",
    "\n",
    "initial_state = [\n",
    "    tf.to_float(success_num_a / total_num),\n",
    "    tf.to_float(success_num_b / total_num),\n",
    "]\n",
    "\n",
    "unconstraining_bijectors = [\n",
    "    tp.bijectors.Sigmoid(),\n",
    "    tp.bijectors.Sigmoid(),\n",
    "]\n",
    "\n",
    "with tf.variable_scope(tf.get_variable_scope(), reuse=tf.AUTO_REUSE):\n",
    "    step_size = tf.get_variable(\n",
    "        initializer=tf.constant(0.5, dtype=tf.float32),\n",
    "        name='step_size',\n",
    "        trainable=False,\n",
    "        use_resource=True,\n",
    "    )\n",
    "\n",
    "kernel = tp.mcmc.TransformedTransitionKernel(\n",
    "    inner_kernel=tp.mcmc.HamiltonianMonteCarlo(\n",
    "        target_log_prob_fn=partial(unnormalized_log_probability,\n",
    "                                   success_num_a, success_num_b,\n",
    "                                   total_num, total_num),\n",
    "        num_leapfrog_steps=3,\n",
    "        step_size=step_size,\n",
    "        step_size_update_fn=tp.mcmc.make_simple_step_size_update_policy(),\n",
    "        state_gradients_are_stopped=True,\n",
    "    ),\n",
    "    bijector=unconstraining_bijectors,\n",
    ")\n",
    "\n",
    "[posterior_rate_a, posterior_rate_b], kernel = tp.mcmc.sample_chain(\n",
    "    num_results=100000,\n",
    "    num_burnin_steps=10000,\n",
    "    current_state=initial_state,\n",
    "    kernel=kernel,\n",
    ")"
   ]
  },
  {
   "cell_type": "code",
   "execution_count": null,
   "metadata": {},
   "outputs": [],
   "source": [
    "session = tf.Session()\n",
    "\n",
    "session.run([\n",
    "    tf.global_variables_initializer(),\n",
    "    tf.local_variables_initializer(),\n",
    "])\n",
    "\n",
    "[\n",
    "    posterior_rate_a_,\n",
    "    posterior_rate_b_,\n",
    "    kernel_,\n",
    "] = session.run([\n",
    "    posterior_rate_a,\n",
    "    posterior_rate_b,\n",
    "    kernel,\n",
    "])\n",
    "\n",
    "print('Acceptance rate: {}'.format(kernel_.inner_results.is_accepted.mean()))"
   ]
  },
  {
   "cell_type": "code",
   "execution_count": null,
   "metadata": {},
   "outputs": [],
   "source": [
    "pp.figure(figsize=(12, 6))\n",
    "pp.axvline(x=rate_b - rate_a, color='black', linestyle='--', lw=1)\n",
    "pp.hist(posterior_rate_b_ - posterior_rate_a_, bins=50, density=True);"
   ]
  }
 ],
 "metadata": {
  "kernelspec": {
   "display_name": "Python 3",
   "language": "python",
   "name": "python3"
  }
 },
 "nbformat": 4,
 "nbformat_minor": 2
}
