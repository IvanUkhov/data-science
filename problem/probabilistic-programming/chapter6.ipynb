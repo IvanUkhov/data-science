{
 "cells": [
  {
   "cell_type": "code",
   "execution_count": null,
   "metadata": {},
   "outputs": [],
   "source": [
    "import matplotlib.pyplot as pp\n",
    "import numpy as np\n",
    "import pandas as pd\n",
    "import pandas_datareader.data as datareader\n",
    "import tensorflow as tf\n",
    "import tensorflow_probability as tp\n",
    "\n",
    "from collections import OrderedDict"
   ]
  },
  {
   "cell_type": "code",
   "execution_count": null,
   "metadata": {},
   "outputs": [],
   "source": [
    "%config InlineBackend.figure_format = 'svg'"
   ]
  },
  {
   "cell_type": "code",
   "execution_count": null,
   "metadata": {},
   "outputs": [],
   "source": [
    "pp.style.use('ggplot')"
   ]
  },
  {
   "cell_type": "code",
   "execution_count": null,
   "metadata": {},
   "outputs": [],
   "source": [
    "prior_params = OrderedDict([\n",
    "    ('AAPL', (0.05, 0.03)),\n",
    "    ('AMZN', (0.03, 0.02)),\n",
    "    ('GOOG', (-0.03, 0.04)),\n",
    "    ('TSLA', (-0.02, 0.01)),\n",
    "])\n",
    "\n",
    "stocks = prior_params.keys()"
   ]
  },
  {
   "cell_type": "code",
   "execution_count": null,
   "metadata": {},
   "outputs": [],
   "source": [
    "session = tf.Session()\n",
    "\n",
    "pp.figure(figsize=(12, 6))\n",
    "for i, (name, params) in enumerate(prior_params.items()):\n",
    "    x = tf.linspace(start=-0.15, stop=0.15, num=100)\n",
    "    pp.subplot(2, 2, i + 1)\n",
    "    y = tp.distributions.Normal(loc=params[0], scale=params[1]).prob(x)\n",
    "    [x_, y_] = session.run([x, y])\n",
    "    pp.fill_between(x_, 0, y_, alpha=0.6)\n",
    "    pp.title(name)\n",
    "    pp.vlines(0, 0, y_.max(), 'k', '--')\n",
    "    pp.xlim(-0.15, 0.15)\n",
    "pp.tight_layout()"
   ]
  },
  {
   "cell_type": "code",
   "execution_count": null,
   "metadata": {},
   "outputs": [],
   "source": [
    "start_date, end_date = '2016-01-01', '2018-12-01'\n",
    "\n",
    "prices = pd.DataFrame()\n",
    "for name in stocks:\n",
    "    series = datareader.DataReader(name, 'iex', start_date, end_date)['close']\n",
    "    prices[name] = series\n",
    "\n",
    "prices.index = pd.to_datetime(prices.index, format='%Y-%m-%d')\n",
    "returns = prices.pct_change()[1:]"
   ]
  },
  {
   "cell_type": "code",
   "execution_count": null,
   "metadata": {},
   "outputs": [],
   "source": [
    "((returns + 1).cumprod() - 1).plot(figsize=(12, 6))"
   ]
  },
  {
   "cell_type": "code",
   "execution_count": null,
   "metadata": {},
   "outputs": [],
   "source": [
    "prior_mu = tf.constant([x[0] for x in prior_params.values()], dtype=tf.float32)\n",
    "prior_sd = tf.constant([x[1] for x in prior_params.values()], dtype=tf.float32)\n",
    "\n",
    "observed_mu = tf.to_float(returns.mean())\n",
    "observed_cov = tf.to_float(returns.cov().values)\n",
    "\n",
    "print('Observed mean:', session.run(observed_mu), sep='\\n')\n",
    "print('Observed covariance:', session.run(observed_cov), sep='\\n')"
   ]
  }
 ],
 "metadata": {
  "kernelspec": {
   "display_name": "Python 3",
   "language": "python",
   "name": "python3"
  }
 },
 "nbformat": 4,
 "nbformat_minor": 2
}
