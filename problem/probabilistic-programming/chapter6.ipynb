{
 "cells": [
  {
   "cell_type": "code",
   "execution_count": null,
   "metadata": {},
   "outputs": [],
   "source": [
    "import matplotlib.pyplot as pp\n",
    "import tensorflow as tf\n",
    "import tensorflow_probability as tp"
   ]
  },
  {
   "cell_type": "code",
   "execution_count": null,
   "metadata": {},
   "outputs": [],
   "source": [
    "%config InlineBackend.figure_format = 'svg'"
   ]
  },
  {
   "cell_type": "code",
   "execution_count": null,
   "metadata": {},
   "outputs": [],
   "source": [
    "pp.style.use('ggplot')"
   ]
  },
  {
   "cell_type": "code",
   "execution_count": null,
   "metadata": {},
   "outputs": [],
   "source": [
    "session = tf.Session()\n",
    "\n",
    "expert_prior_params_ = {\n",
    "    'GOOG': (-0.03, 0.04), \n",
    "    'AAPL': (0.05, 0.03), \n",
    "    'AMZN': (0.03, 0.02), \n",
    "    'TSLA': (-0.02, 0.01),\n",
    "}"
   ]
  },
  {
   "cell_type": "code",
   "execution_count": null,
   "metadata": {},
   "outputs": [],
   "source": [
    "pp.figure(figsize=(12, 6))\n",
    "for i, (name, params) in enumerate(expert_prior_params_.items()):\n",
    "    x = tf.linspace(start=-0.15, stop=0.15, num=100)\n",
    "    pp.subplot(2, 2, i + 1)\n",
    "    y = tp.distributions.Normal(loc=params[0], scale=params[1]).prob(x)\n",
    "    [x_, y_] = session.run([x, y])\n",
    "    pp.fill_between(x_, 0, y_, linewidth=2, alpha=0.6)\n",
    "    pp.title(name)\n",
    "    pp.vlines(0, 0, y_.max(), 'k', '--', linewidth=0.5)\n",
    "    pp.xlim(-0.15, 0.15)\n",
    "\n",
    "    pp.tight_layout()"
   ]
  }
 ],
 "metadata": {
  "kernelspec": {
   "display_name": "Python 3",
   "language": "python",
   "name": "python3"
  }
 },
 "nbformat": 4,
 "nbformat_minor": 2
}
