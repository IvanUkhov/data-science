{
 "cells": [
  {
   "cell_type": "code",
   "execution_count": null,
   "metadata": {},
   "outputs": [],
   "source": [
    "import matplotlib.pyplot as pp\n",
    "import pandas as pd\n",
    "import tensorflow as tf\n",
    "import tensorflow_probability as tp\n",
    "\n",
    "from functools import partial"
   ]
  },
  {
   "cell_type": "code",
   "execution_count": null,
   "metadata": {},
   "outputs": [],
   "source": [
    "%config InlineBackend.figure_format = 'svg'"
   ]
  },
  {
   "cell_type": "code",
   "execution_count": null,
   "metadata": {},
   "outputs": [],
   "source": [
    "pp.style.use('ggplot')"
   ]
  },
  {
   "cell_type": "markdown",
   "metadata": {},
   "source": [
    "# Mixture"
   ]
  },
  {
   "cell_type": "code",
   "execution_count": null,
   "metadata": {},
   "outputs": [],
   "source": [
    "data = pd.read_csv('https://raw.githubusercontent.com/CamDavidsonPilon/Probabilistic-Programming-and-Bayesian-Methods-for-Hackers/master/Chapter3_MCMC/data/mixture_data.csv',\n",
    "                   header=None).astype('float32')[0]"
   ]
  },
  {
   "cell_type": "code",
   "execution_count": null,
   "metadata": {},
   "outputs": [],
   "source": [
    "pp.figure(figsize=(12, 6))\n",
    "pp.hist(data, bins=25);"
   ]
  },
  {
   "cell_type": "code",
   "execution_count": null,
   "metadata": {},
   "outputs": [],
   "source": [
    "def unnormalized_log_probability(data, probability, locations, scales):\n",
    "    rv_probability = tp.distributions.Uniform()\n",
    "    rv_group = tp.distributions.Categorical(probs=[probability, 1.0 - probability])\n",
    "    rv_locations = tp.distributions.Normal(loc=[120.0, 190.0], scale=[10.0, 10.0])\n",
    "    rv_scales = tp.distributions.Uniform(low=[0.0, 0.0], high=[100.0, 100.0])\n",
    "    rv_mixture = tp.distributions.MixtureSameFamily(\n",
    "        mixture_distribution=rv_group,\n",
    "        components_distribution=tp.distributions.Normal(\n",
    "            loc=locations,\n",
    "            scale=scales,\n",
    "        ),\n",
    "    )\n",
    "    return (\n",
    "        rv_probability.log_prob(probability) +\n",
    "        rv_probability.log_prob(1.0 - probability) +\n",
    "        tf.reduce_sum(rv_locations.log_prob(locations)) +\n",
    "        tf.reduce_sum(rv_scales.log_prob(scales)) +\n",
    "        tf.reduce_sum(rv_mixture.log_prob(data))\n",
    "    )\n",
    "\n",
    "state = [\n",
    "    tf.constant(0.5),\n",
    "    tf.constant([120.0, 190.0]),\n",
    "    tf.constant([10.0, 10.0]),\n",
    "]\n",
    "\n",
    "bijector = [\n",
    "    tp.bijectors.Identity(),\n",
    "    tp.bijectors.Identity(),\n",
    "    tp.bijectors.Identity(),\n",
    "]\n",
    "\n",
    "with tf.variable_scope(tf.get_variable_scope(), reuse=tf.AUTO_REUSE):\n",
    "    step_size = tf.get_variable(\n",
    "        name='step_size',\n",
    "        initializer=tf.constant(0.5, dtype=tf.float32),\n",
    "        trainable=False,\n",
    "        use_resource=True,\n",
    "    )\n",
    "\n",
    "kernel = tp.mcmc.TransformedTransitionKernel(\n",
    "    inner_kernel=tp.mcmc.HamiltonianMonteCarlo(\n",
    "        target_log_prob_fn=partial(unnormalized_log_probability, data),\n",
    "        num_leapfrog_steps=2,\n",
    "        step_size=step_size,\n",
    "        step_size_update_fn=tp.mcmc.make_simple_step_size_update_policy(),\n",
    "        state_gradients_are_stopped=True,\n",
    "    ),\n",
    "    bijector=bijector,\n",
    ")\n",
    "\n",
    "[\n",
    "    posterior_probability,\n",
    "    posterior_locations,\n",
    "    posterior_scales,\n",
    "], kernel = tp.mcmc.sample_chain(\n",
    "    num_results=200000,\n",
    "    num_burnin_steps=0,\n",
    "    current_state=state,\n",
    "    kernel=kernel,\n",
    ")"
   ]
  },
  {
   "cell_type": "code",
   "execution_count": null,
   "metadata": {},
   "outputs": [],
   "source": [
    "session = tf.Session()\n",
    "\n",
    "session.run([\n",
    "    tf.global_variables_initializer(),\n",
    "    tf.local_variables_initializer(),\n",
    "])\n",
    "\n",
    "[\n",
    "    posterior_probability_,\n",
    "    posterior_locations_,\n",
    "    posterior_scales_,\n",
    "    kernel_,\n",
    "] = session.run([\n",
    "    posterior_probability,\n",
    "    posterior_locations,\n",
    "    posterior_scales,\n",
    "    kernel,\n",
    "])\n",
    "\n",
    "print('Acceptance rate: {}'.format(kernel_.inner_results.is_accepted.mean()))"
   ]
  },
  {
   "cell_type": "code",
   "execution_count": null,
   "metadata": {},
   "outputs": [],
   "source": [
    "pp.figure(figsize=(12, 12))\n",
    "\n",
    "pp.subplot(311)\n",
    "pp.plot(posterior_probability_)\n",
    "\n",
    "pp.subplot(312)\n",
    "pp.plot(posterior_locations_[:, 0])\n",
    "pp.plot(posterior_locations_[:, 1])\n",
    "\n",
    "pp.subplot(313)\n",
    "pp.plot(posterior_scales_[:, 0])\n",
    "pp.plot(posterior_scales_[:, 1]);"
   ]
  }
 ],
 "metadata": {
  "kernelspec": {
   "display_name": "Python 3",
   "language": "python",
   "name": "python3"
  }
 },
 "nbformat": 4,
 "nbformat_minor": 2
}
