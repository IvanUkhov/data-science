{
 "cells": [
  {
   "cell_type": "code",
   "execution_count": null,
   "metadata": {},
   "outputs": [],
   "source": [
    "import tensorflow as tf\n",
    "import tensorflow_probability as tp"
   ]
  },
  {
   "cell_type": "markdown",
   "metadata": {},
   "source": [
    "# Coin flip"
   ]
  },
  {
   "cell_type": "code",
   "execution_count": null,
   "metadata": {},
   "outputs": [],
   "source": [
    "actual = tp.distributions.Bernoulli(probs=0.5)\n",
    "\n",
    "trials = [0, 1, 2, 3, 4, 5, 8, 15, 50, 500, 1000, 2000]\n",
    "data = actual.sample(trials[-1])\n",
    "sums = [tf.reduce_sum(data[:trial]) for trial in trials]\n",
    "\n",
    "prior_alpha = 1\n",
    "prior_beta = 1\n",
    "\n",
    "points = tf.linspace(start=0.0, stop=1.0, num=100, name='linspace')\n",
    "posterior_densities = [\n",
    "    tp.distributions.Beta(\n",
    "        concentration1=tf.to_float(prior_alpha + sum),\n",
    "        concentration0=tf.to_float(prior_beta + trial - sum),\n",
    "    )\n",
    "    .prob(points)\n",
    "    for trial, sum in zip(trials, sums)\n",
    "]"
   ]
  },
  {
   "cell_type": "code",
   "execution_count": null,
   "metadata": {},
   "outputs": [],
   "source": [
    "sums_stacked = tf.stack(sums)\n",
    "posterior_densities_stacked = tf.stack(posterior_densities)\n",
    "\n",
    "session = tf.Session()\n",
    "\n",
    "[\n",
    "    data_,\n",
    "    sums_stacked_,\n",
    "    points_,\n",
    "    posterior_densities_stacked_,\n",
    "] = session.run([\n",
    "    data,\n",
    "    sums_stacked,\n",
    "    points,\n",
    "    posterior_densities_stacked,\n",
    "])"
   ]
  }
 ],
 "metadata": {
  "kernelspec": {
   "display_name": "Python 3",
   "language": "python",
   "name": "python3"
  }
 },
 "nbformat": 4,
 "nbformat_minor": 2
}
